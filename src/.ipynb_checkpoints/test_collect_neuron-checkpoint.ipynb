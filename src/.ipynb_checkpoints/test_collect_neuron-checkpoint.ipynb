{
 "cells": [
  {
   "cell_type": "code",
   "execution_count": 1,
   "id": "d710d437-12f1-4c5a-a2b4-dba99905a833",
   "metadata": {
    "tags": []
   },
   "outputs": [],
   "source": [
    "import os\n",
    "import torch\n",
    "import argparse\n",
    "import pandas as pd\n",
    "from tqdm import tqdm\n",
    "from load_mlama import MaskedDataset\n",
    "from modules.xlmr_base_model import XLMBaseModel"
   ]
  },
  {
   "cell_type": "code",
   "execution_count": 2,
   "id": "70785e48-910b-49ed-b435-95c2d9cb0cce",
   "metadata": {
    "tags": []
   },
   "outputs": [],
   "source": [
    "device = torch.device(\"cpu\")\n",
    "xlmr = XLMBaseModel(device)"
   ]
  },
  {
   "cell_type": "code",
   "execution_count": 3,
   "id": "2ff7abdf-5208-49c7-b3ac-ace93c840cb1",
   "metadata": {
    "tags": []
   },
   "outputs": [
    {
     "name": "stderr",
     "output_type": "stream",
     "text": [
      "100%|███████████████████████████████████████████████████████████████████████████████████| 53/53 [00:00<00:00, 53.56it/s]\n"
     ]
    }
   ],
   "source": [
    "mlama = MaskedDataset(\"mlama\", \"<mask>\")"
   ]
  },
  {
   "cell_type": "code",
   "execution_count": 29,
   "id": "78947263-49b0-45a3-b17b-7116df17ccd4",
   "metadata": {
    "tags": []
   },
   "outputs": [],
   "source": [
    "sents = mlama.get_lang_type('en', 'P178')['sent'].tolist()"
   ]
  },
  {
   "cell_type": "code",
   "execution_count": 30,
   "id": "d429a065-2e81-4c65-9eb5-c905c2ee433a",
   "metadata": {
    "tags": []
   },
   "outputs": [
    {
     "data": {
      "text/html": [
       "<div>\n",
       "<style scoped>\n",
       "    .dataframe tbody tr th:only-of-type {\n",
       "        vertical-align: middle;\n",
       "    }\n",
       "\n",
       "    .dataframe tbody tr th {\n",
       "        vertical-align: top;\n",
       "    }\n",
       "\n",
       "    .dataframe thead th {\n",
       "        text-align: right;\n",
       "    }\n",
       "</style>\n",
       "<table border=\"1\" class=\"dataframe\">\n",
       "  <thead>\n",
       "    <tr style=\"text-align: right;\">\n",
       "      <th></th>\n",
       "      <th>index</th>\n",
       "      <th>sent</th>\n",
       "      <th>lang</th>\n",
       "      <th>relid</th>\n",
       "      <th>lineid</th>\n",
       "      <th>obj</th>\n",
       "    </tr>\n",
       "  </thead>\n",
       "  <tbody>\n",
       "    <tr>\n",
       "      <th>15696</th>\n",
       "      <td>0</td>\n",
       "      <td>MessagePad is developed by &lt;mask&gt; .</td>\n",
       "      <td>en</td>\n",
       "      <td>P178</td>\n",
       "      <td>0</td>\n",
       "      <td>Apple Inc.</td>\n",
       "    </tr>\n",
       "    <tr>\n",
       "      <th>15697</th>\n",
       "      <td>0</td>\n",
       "      <td>macOS is developed by &lt;mask&gt; .</td>\n",
       "      <td>en</td>\n",
       "      <td>P178</td>\n",
       "      <td>1</td>\n",
       "      <td>Apple Inc.</td>\n",
       "    </tr>\n",
       "    <tr>\n",
       "      <th>15698</th>\n",
       "      <td>0</td>\n",
       "      <td>iOS is developed by &lt;mask&gt; .</td>\n",
       "      <td>en</td>\n",
       "      <td>P178</td>\n",
       "      <td>2</td>\n",
       "      <td>Apple Inc.</td>\n",
       "    </tr>\n",
       "    <tr>\n",
       "      <th>15699</th>\n",
       "      <td>0</td>\n",
       "      <td>Safari is developed by &lt;mask&gt; .</td>\n",
       "      <td>en</td>\n",
       "      <td>P178</td>\n",
       "      <td>3</td>\n",
       "      <td>Apple Inc.</td>\n",
       "    </tr>\n",
       "    <tr>\n",
       "      <th>15700</th>\n",
       "      <td>0</td>\n",
       "      <td>iLife is developed by &lt;mask&gt; .</td>\n",
       "      <td>en</td>\n",
       "      <td>P178</td>\n",
       "      <td>4</td>\n",
       "      <td>Apple Inc.</td>\n",
       "    </tr>\n",
       "    <tr>\n",
       "      <th>15701</th>\n",
       "      <td>0</td>\n",
       "      <td>iWork is developed by &lt;mask&gt; .</td>\n",
       "      <td>en</td>\n",
       "      <td>P178</td>\n",
       "      <td>5</td>\n",
       "      <td>Apple Inc.</td>\n",
       "    </tr>\n",
       "    <tr>\n",
       "      <th>15702</th>\n",
       "      <td>0</td>\n",
       "      <td>PostScript is developed by &lt;mask&gt; .</td>\n",
       "      <td>en</td>\n",
       "      <td>P178</td>\n",
       "      <td>6</td>\n",
       "      <td>Adobe</td>\n",
       "    </tr>\n",
       "    <tr>\n",
       "      <th>15703</th>\n",
       "      <td>0</td>\n",
       "      <td>IBM AIX is developed by &lt;mask&gt; .</td>\n",
       "      <td>en</td>\n",
       "      <td>P178</td>\n",
       "      <td>7</td>\n",
       "      <td>IBM</td>\n",
       "    </tr>\n",
       "    <tr>\n",
       "      <th>15704</th>\n",
       "      <td>0</td>\n",
       "      <td>AppleTalk is developed by &lt;mask&gt; .</td>\n",
       "      <td>en</td>\n",
       "      <td>P178</td>\n",
       "      <td>8</td>\n",
       "      <td>Apple Inc.</td>\n",
       "    </tr>\n",
       "    <tr>\n",
       "      <th>15705</th>\n",
       "      <td>0</td>\n",
       "      <td>Applesoft BASIC is developed by &lt;mask&gt; .</td>\n",
       "      <td>en</td>\n",
       "      <td>P178</td>\n",
       "      <td>9</td>\n",
       "      <td>Microsoft</td>\n",
       "    </tr>\n",
       "  </tbody>\n",
       "</table>\n",
       "</div>"
      ],
      "text/plain": [
       "       index                                      sent lang relid lineid  \\\n",
       "15696      0       MessagePad is developed by <mask> .   en  P178      0   \n",
       "15697      0            macOS is developed by <mask> .   en  P178      1   \n",
       "15698      0              iOS is developed by <mask> .   en  P178      2   \n",
       "15699      0           Safari is developed by <mask> .   en  P178      3   \n",
       "15700      0            iLife is developed by <mask> .   en  P178      4   \n",
       "15701      0            iWork is developed by <mask> .   en  P178      5   \n",
       "15702      0       PostScript is developed by <mask> .   en  P178      6   \n",
       "15703      0          IBM AIX is developed by <mask> .   en  P178      7   \n",
       "15704      0        AppleTalk is developed by <mask> .   en  P178      8   \n",
       "15705      0  Applesoft BASIC is developed by <mask> .   en  P178      9   \n",
       "\n",
       "              obj  \n",
       "15696  Apple Inc.  \n",
       "15697  Apple Inc.  \n",
       "15698  Apple Inc.  \n",
       "15699  Apple Inc.  \n",
       "15700  Apple Inc.  \n",
       "15701  Apple Inc.  \n",
       "15702       Adobe  \n",
       "15703         IBM  \n",
       "15704  Apple Inc.  \n",
       "15705   Microsoft  "
      ]
     },
     "execution_count": 30,
     "metadata": {},
     "output_type": "execute_result"
    }
   ],
   "source": [
    "mlama.get_lang_type('en', 'P178').head(10)"
   ]
  },
  {
   "cell_type": "code",
   "execution_count": 31,
   "id": "6bfdc7de-6881-40bb-bffa-2512d7feb7e0",
   "metadata": {
    "tags": []
   },
   "outputs": [],
   "source": [
    "logits, acts, outs = xlmr.collect_neurons(sents)"
   ]
  },
  {
   "cell_type": "code",
   "execution_count": 33,
   "id": "93594551-74c3-48ff-868e-375e3827999e",
   "metadata": {
    "tags": []
   },
   "outputs": [
    {
     "name": "stdout",
     "output_type": "stream",
     "text": [
      "[':', '▁the', '▁WordPress', '▁Microsoft', '▁Google', '▁a', '▁:', '▁PHP', '.', '▁The']\n",
      "['▁Apple', '▁Microsoft', '▁mac', '▁Mac', '▁Intel', '▁apple', '▁Windows', '▁Adobe', '▁Mozilla', '▁Ubuntu']\n",
      "['▁Apple', '▁Microsoft', '▁Android', '▁Google', '▁apple', '▁iOS', '▁WordPress', '▁Adobe', '▁iPhone', '▁Facebook']\n",
      "['▁WordPress', ':', '▁Blogger', '▁Google', '▁Wordpress', '▁PHP', '▁Mozilla', '▁Apple', '▁:', '▁the']\n",
      "['▁WordPress', ':', '▁Microsoft', '▁Google', '▁Blogger', '▁developer', '▁:', '▁PHP', '▁the', '▁Wordpress']\n",
      "['▁WordPress', ':', '▁Microsoft', '▁Google', '▁PHP', '▁developer', '▁:', '▁Adobe', '▁the', '▁Blogger']\n",
      "['▁WordPress', ':', '▁Blogger', '▁PHP', '▁:', '▁Wordpress', '▁Google', '▁the', '▁Mozilla', '▁Microsoft']\n",
      "['▁IBM', '▁Microsoft', ':', '▁the', '▁Intel', '▁Google', '▁Oracle', '▁:', '▁Windows', '▁HP']\n",
      "['▁Apple', '▁Microsoft', ':', '▁the', '▁Google', '▁developer', '▁WordPress', '▁:', '▁Mozilla', '▁company']\n",
      "['▁Microsoft', ':', '▁the', '▁Apple', '▁developer', '▁WordPress', '▁Google', '▁:', '▁Adobe', '▁Windows']\n"
     ]
    }
   ],
   "source": [
    "for i in range(10):\n",
    "    sent = sents[i]\n",
    "    inputs = xlmr.tokenizer(sent, return_tensors=\"pt\").to(device)\n",
    "    tokens = xlmr.tokenizer.convert_ids_to_tokens(inputs.input_ids[0])\n",
    "    mask_ind = tokens.index(xlmr.mask_token)\n",
    "    mask_ind2 = mask_ind + 1\n",
    "    mask_ind3 = mask_ind + 2\n",
    "    mask_ind4 = mask_ind + 3\n",
    "    print(xlmr.tokenizer.convert_ids_to_tokens(torch.topk(logits[i][0][mask_ind], 10).indices))\n",
    "    "
   ]
  },
  {
   "cell_type": "code",
   "execution_count": 4,
   "id": "32824e25-ea23-4fc7-821e-4a784c91d5dd",
   "metadata": {
    "tags": []
   },
   "outputs": [],
   "source": [
    "from collect_neurons import collect_neurons"
   ]
  },
  {
   "cell_type": "code",
   "execution_count": 5,
   "id": "9c091f04-da07-4f35-8660-1efad5630f6f",
   "metadata": {
    "tags": []
   },
   "outputs": [],
   "source": [
    "collect_neurons(mlama, xlmr, 'en', 'P178')"
   ]
  },
  {
   "cell_type": "code",
   "execution_count": null,
   "id": "629da441-5db8-464a-8c3a-8db7d1c880f4",
   "metadata": {},
   "outputs": [],
   "source": []
  }
 ],
 "metadata": {
  "kernelspec": {
   "display_name": "Python 3 (ipykernel)",
   "language": "python",
   "name": "python3"
  },
  "language_info": {
   "codemirror_mode": {
    "name": "ipython",
    "version": 3
   },
   "file_extension": ".py",
   "mimetype": "text/x-python",
   "name": "python",
   "nbconvert_exporter": "python",
   "pygments_lexer": "ipython3",
   "version": "3.10.12"
  }
 },
 "nbformat": 4,
 "nbformat_minor": 5
}
