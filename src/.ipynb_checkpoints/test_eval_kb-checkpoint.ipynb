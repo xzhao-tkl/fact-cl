{
 "cells": [
  {
   "cell_type": "code",
   "execution_count": 3,
   "id": "8fe82aae-bd6d-4422-96db-c8be4ef82c13",
   "metadata": {
    "tags": []
   },
   "outputs": [],
   "source": [
    "import os\n",
    "import torch\n",
    "import argparse\n",
    "import pandas as pd\n",
    "from tqdm import tqdm\n",
    "from mask_dataset import MaskedDataset\n",
    "from modules.xlmr_base_model import XLMBaseModel\n",
    "from evaluation import load_objects\n",
    "from collect_neurons import collect_neurons"
   ]
  },
  {
   "cell_type": "code",
   "execution_count": 4,
   "id": "f36ccabd-061d-4527-9fd2-70f934a282c5",
   "metadata": {},
   "outputs": [
    {
     "name": "stderr",
     "output_type": "stream",
     "text": [
      "100%|███████████████████████████████████████████████████████████████████████████████████| 53/53 [00:02<00:00, 18.02it/s]\n"
     ]
    }
   ],
   "source": [
    "device = torch.device(\"cpu\")    \n",
    "# load dataset\n",
    "mlama = MaskedDataset(\"mlama\", '<mask>', 1)\n",
    "# load MLLM model manager\n",
    "xlmr = XLMBaseModel(device, 1)"
   ]
  },
  {
   "cell_type": "code",
   "execution_count": 3,
   "id": "f488895f-e31a-47a1-9cbf-34e9e9d260d3",
   "metadata": {
    "tags": []
   },
   "outputs": [
    {
     "name": "stdout",
     "output_type": "stream",
     "text": [
      "logic Alan Turing works in the field of <mask> .\n",
      "▁engineering | ▁computing | ▁science | ▁math | ▁technology | ▁design | ▁software | ▁computer | ▁Engineering | ▁research | ▁education | ▁information | ▁medicine | ▁communication | ▁data | ▁memory | ▁energy | ▁Technology | ▁Math | ▁Science | ▁quantum | ▁navigation | ▁music | ▁power | ▁logic | ▁hardware | ▁manufacturing | ▁the | ▁finance | ▁knowledge | ▁art | ▁analysis | ▁development | ▁construction | ▁DNA | ▁Design | ▁magic | ▁AI | ▁language | ▁space | ▁testing | ▁Computer | ▁IT | ▁machines | ▁religion | ▁law | ▁learning | ▁Energy | ▁GPS | ▁electronic\n",
      "\n",
      "\n",
      "mathematics John Vincent Atanasoff works in the field of <mask> .\n",
      "▁law | ▁education | ▁science | ▁music | ▁the | ▁medicine | ▁art | ▁engineering | ▁research | ▁technology | ▁design | ▁business | ▁history | ▁finance | ▁marketing | ▁Law | ▁communication | ▁literature | ▁advertising | ▁health | ▁Education | ▁religion | ▁Music | ▁teaching | ▁Finance | ▁construction | ▁History | ▁writing | : | ▁development | ▁Medicine | ▁sports | ▁film | ▁security | ▁management | ▁Science | ▁media | ▁Art | ▁Engineering | ▁innovation | ▁energy | ▁Technology | ▁information | ▁arts | ▁... | ▁fashion | ▁English | ▁administration | ▁insurance | ▁justice\n",
      "\n",
      "\n",
      "anthropology Edward Burnett Tylor works in the field of <mask> .\n",
      "▁law | ▁education | ▁medicine | ▁science | ▁engineering | ▁music | ▁the | ▁business | ▁research | ▁art | ▁Law | ▁design | ▁history | ▁technology | ▁finance | ▁health | ▁Education | ▁literature | ▁advertising | ▁communication | ▁religion | ▁marketing | ▁teaching | ▁Medicine | ▁construction | ▁History | ▁Finance | ▁writing | ▁Engineering | ▁management | ▁sports | ▁Science | ▁development | ▁Music | : | ▁insurance | ▁administration | ▁English | ▁security | ▁Art | ▁arts | ▁justice | ▁film | ▁information | ▁government | ▁fashion | ▁Technology | ▁energy | ▁studies | ▁defense\n",
      "\n",
      "\n",
      "philosophy Anaxagoras works in the field of <mask> .\n",
      "▁medicine | ▁science | ▁law | ▁religion | ▁education | ▁art | ▁literature | ▁music | ▁engineering | ▁history | ▁Medicine | ▁research | ▁communication | ▁finance | ▁writing | ▁magic | ▁business | ▁Law | ▁justice | ▁arts | ▁teaching | ▁technology | ▁commerce | ▁logic | ▁health | ▁design | ▁language | ▁Science | ▁Art | ▁sports | ▁construction | ▁nature | ▁painting | ▁navigation | ▁war | ▁History | ▁pharmacy | ▁meditation | ▁math | ▁academia | ▁culture | ▁studies | ▁Music | ▁Finance | ▁sport | ▁knowledge | ▁Religion | ▁love | ▁Education | ▁analysis\n",
      "\n",
      "\n",
      "chemistry Robert Bunsen works in the field of <mask> .\n",
      "▁education | ▁law | ▁music | ▁engineering | ▁science | ▁medicine | ▁design | ▁research | ▁technology | ▁marketing | ▁business | ▁advertising | ▁art | ▁health | ▁finance | ▁communication | ▁the | ▁construction | ▁Education | ▁literature | ▁history | ▁religion | ▁development | ▁writing | ▁teaching | ▁film | ▁Law | ▁sports | ▁media | ▁security | ▁insurance | ▁management | ▁Engineering | ▁Finance | ▁Music | ▁Medicine | ▁software | ▁fashion | ▁innovation | ▁energy | ▁Marketing | ▁information | ▁Technology | ▁Science | ▁IT | ▁entertainment | ▁training | ▁math | ▁travel | ▁History\n",
      "\n",
      "\n",
      "comedian Adam Carolla works in the field of <mask> .\n",
      "▁education | ▁law | ▁music | ▁science | ▁engineering | ▁medicine | ▁design | ▁technology | ▁research | ▁business | ▁art | ▁the | ▁marketing | ▁advertising | ▁health | ▁finance | ▁communication | ▁Education | ▁religion | ▁history | ▁literature | ▁Law | ▁teaching | ▁construction | ▁Music | ▁film | ▁writing | ▁sports | ▁development | ▁security | ▁Engineering | ▁media | ▁fashion | ▁Finance | ▁management | ▁Medicine | ▁insurance | ▁Science | ▁innovation | ▁entertainment | ▁Technology | ▁information | ▁History | ▁software | ▁math | : | ▁energy | ▁Art | ▁Marketing | ▁IT\n",
      "\n",
      "\n",
      "cartoonist Al Capp works in the field of <mask> .\n",
      "▁education | ▁music | ▁design | ▁law | ▁engineering | ▁medicine | ▁science | ▁technology | ▁art | ▁health | ▁marketing | ▁research | ▁finance | ▁advertising | ▁business | ▁construction | ▁communication | ▁security | ▁the | ▁fashion | ▁religion | ▁film | ▁development | ▁media | ▁Education | ▁software | ▁sports | ▁teaching | ▁management | ▁Finance | ▁IT | ▁innovation | ▁Engineering | ▁insurance | ▁Music | ▁sport | ▁history | ▁energy | ▁literature | ▁Technology | ▁information | ▁writing | ▁fitness | ▁entertainment | ▁training | ▁travel | ▁Law | ▁Medicine | ▁food | ▁painting\n",
      "\n",
      "\n",
      "linguistics Benjamin Lee Whorf works in the field of <mask> .\n",
      "▁film | ▁education | ▁cinema | ▁music | ▁art | ▁drama | ▁science | ▁the | ▁comedy | ▁fiction | ▁literature | ▁horror | ▁law | ▁history | ▁television | ▁design | ▁entertainment | ▁fantasy | ▁medicine | ▁research | ▁technology | ▁advertising | ▁religion | ▁engineering | ▁performance | ▁writing | ▁movies | ▁magic | ▁Art | ▁business | ▁Drama | ▁Film | ▁History | ▁Music | ▁sports | ▁communication | ▁media | ▁dance | ▁fashion | ▁Cinema | ▁crime | ▁Science | ▁humor | ▁Education | ▁terror | ▁illustration | ▁finance | ▁construction | ▁defense | ▁studies\n",
      "\n",
      "\n",
      "linguistics Edward Sapir works in the field of <mask> .\n",
      "▁education | ▁science | ▁law | ▁medicine | ▁research | ▁engineering | ▁music | ▁religion | ▁technology | ▁history | ▁literature | ▁business | ▁art | ▁communication | ▁design | ▁Education | ▁Science | ▁the | ▁finance | ▁marketing | ▁health | ▁Law | ▁History | ▁Medicine | ▁writing | ▁development | ▁advertising | ▁Finance | ▁Music | ▁Engineering | ▁English | ▁teaching | ▁information | ▁management | ▁language | ▁math | ▁Technology | ▁Religion | ▁memory | ▁innovation | ▁studies | ▁film | ▁Art | ▁computing | ▁construction | ▁nature | ▁security | ▁media | ▁fiction | ▁Marketing\n",
      "\n",
      "\n",
      "programmer Bruce Perens works in the field of <mask> .\n",
      "▁education | ▁law | ▁music | ▁science | ▁engineering | ▁design | ▁technology | ▁research | ▁medicine | ▁art | ▁business | ▁the | ▁marketing | ▁advertising | ▁health | ▁finance | ▁film | ▁communication | ▁construction | ▁literature | ▁history | ▁sports | ▁security | ▁religion | ▁writing | ▁Education | ▁Law | ▁media | ▁fashion | ▁development | ▁Music | ▁Engineering | ▁software | ▁entertainment | ▁innovation | ▁management | ▁teaching | ▁IT | ▁insurance | ▁Medicine | ▁energy | ▁Science | ▁Technology | ▁information | ▁Finance | ▁math | ▁Art | ▁travel | ▁Marketing | ▁sport\n",
      "\n",
      "\n",
      "topology Luitzen Egbertus Jan Brouwer works in the field of <mask> .\n",
      "▁law | ▁education | ▁medicine | ▁engineering | ▁science | ▁music | ▁design | ▁art | ▁research | ▁business | ▁finance | ▁technology | ▁marketing | ▁history | ▁advertising | ▁the | ▁health | ▁communication | ▁construction | ▁Law | ▁religion | ▁literature | ▁teaching | ▁insurance | ▁management | ▁security | ▁Education | ▁Engineering | ▁Finance | ▁sports | ▁Medicine | ▁Music | ▁development | ▁writing | ▁administration | ▁History | ▁Science | ▁sport | ▁arts | ▁fashion | ▁English | ▁commerce | ▁Art | ▁math | ▁computing | ▁pharmacy | ▁innovation | ▁energy | ▁justice | ▁software\n",
      "\n",
      "\n",
      "linguistics Charles Kay Ogden works in the field of <mask> .\n",
      "▁law | ▁education | ▁medicine | ▁science | ▁engineering | ▁music | ▁research | ▁art | ▁business | ▁the | ▁technology | ▁design | ▁health | ▁finance | ▁history | ▁religion | ▁Law | ▁literature | ▁marketing | ▁advertising | ▁Education | ▁communication | ▁teaching | ▁construction | ▁Medicine | ▁development | ▁sports | ▁writing | ▁justice | ▁security | ▁management | ▁insurance | ▁History | ▁Engineering | ▁Finance | ▁energy | ▁Science | ▁film | ▁information | ▁fashion | ▁media | ▁administration | ▁entertainment | ▁innovation | ▁defense | ▁arts | ▁Music | ▁training | ▁government | ▁sport\n",
      "\n",
      "\n",
      "cave speleology works in the field of <mask> .\n",
      "▁the | ▁science | ▁nature | ▁research | : | ▁plant | ▁a | ▁animals | . | ▁life | ▁scientific | ▁field | ▁education | ▁health | ▁natural | ▁medicine | ▁... | ▁environmental | ▁: | ▁ | ▁animal | ▁knowledge | ▁food | ▁law | ▁wild | ▁land | ▁garden | ▁management | ▁engineering | ▁species | ▁insect | ▁culture | ▁water | ▁interest | ▁development | ▁art | ▁practice | ▁protection | ▁farm | ▁survival | ▁planning | ▁study | ▁studies | ▁information | ▁fungi | ▁all | ▁fire | ▁landscape | , | ▁this\n",
      "\n",
      "\n",
      "cartoonist Bill Watterson works in the field of <mask> .\n",
      "▁education | ▁law | ▁marketing | ▁advertising | ▁engineering | ▁technology | ▁music | ▁business | ▁finance | ▁design | ▁medicine | ▁science | ▁insurance | ▁research | ▁health | ▁Education | ▁Finance | ▁construction | ▁Marketing | ▁the | ▁Law | ▁security | ▁communication | ▁media | ▁Engineering | ▁IT | ▁art | ▁software | ▁entertainment | ▁sports | ▁teaching | ▁management | ▁Technology | ▁development | ▁fashion | ▁energy | ▁legal | ▁information | ▁film | ▁religion | ▁writing | ▁administration | ▁Music | ▁training | ▁Medicine | ▁government | ▁history | ▁fitness | ▁innovation | ▁Health\n",
      "\n",
      "\n",
      "theology John Calvin works in the field of <mask> .\n",
      "▁religion | ▁education | ▁science | ▁law | ▁medicine | ▁Religion | ▁teaching | ▁music | ▁literature | ▁prayer | ▁history | ▁art | ▁communication | ▁faith | ▁writing | ▁justice | ▁Law | ▁research | ▁meditation | ▁business | ▁Science | ▁Education | ▁Medicine | ▁engineering | ▁English | ▁History | ▁health | ▁studies | ▁finance | ▁translation | ▁the | ▁technology | ▁design | ▁peace | ▁development | ▁interpretation | ▁language | ▁study | ▁life | ▁love | ▁God | ▁Music | ▁culture | ▁nature | ▁marketing | ▁worship | ▁magic | ▁leadership | ▁Islam | ▁logic\n",
      "\n",
      "\n",
      "mathematician Charles Proteus Steinmetz works in the field of <mask> .\n",
      "▁law | ▁education | ▁medicine | ▁science | ▁engineering | ▁the | ▁music | ▁finance | ▁history | ▁business | ▁art | ▁religion | ▁research | ▁Law | ▁literature | ▁technology | ▁design | ▁marketing | ▁Finance | ▁History | ▁Medicine | ▁Education | ▁communication | ▁advertising | ▁Science | ▁health | ▁Engineering | ▁management | ▁Music | ▁teaching | ▁writing | ▁construction | ▁English | ▁pharmacy | ▁development | ▁Religion | ▁Marketing | ▁administration | ▁Art | ▁justice | ▁security | : | ▁Technology | ▁government | ▁sports | ▁studies | ▁academia | ▁insurance | ▁energy | ▁computing\n",
      "\n",
      "\n",
      "physics physical system works in the field of <mask> .\n",
      "▁the | ▁energy | ▁medicine | ▁science | ▁health | ▁engineering | ▁education | ▁research | ▁physical | ▁power | ▁technology | ▁law | ▁life | ▁knowledge | ▁information | ▁work | ▁control | ▁disease | ▁analysis | ▁music | ▁fitness | ▁learning | ▁computing | ▁development | ▁communication | ▁construction | ▁chemical | ▁a | ▁motion | ▁space | ▁light | . | ▁nature | ▁sound | ▁it | ▁ | ▁medical | ▁manufacturing | ▁water | ▁art | ▁vision | ▁teaching | ▁performance | ▁study | ▁memory | ▁care | ▁design | ▁surgery | ▁electric | ▁production\n",
      "\n",
      "\n",
      "psychology Carl Rogers works in the field of <mask> .\n",
      "▁science | ▁medicine | ▁engineering | ▁education | ▁law | ▁research | ▁religion | ▁the | ▁music | ▁art | ▁literature | ▁Science | ▁technology | ▁design | ▁communication | ▁finance | ▁Medicine | ▁history | ▁business | ▁logic | ▁theory | ▁health | ▁magic | ▁Engineering | ▁writing | ▁marketing | ▁nature | ▁energy | ▁Law | ▁analysis | ▁memory | ▁language | ▁fiction | ▁English | ▁Music | ▁development | ▁Education | ▁computing | ▁ | ▁math | ▁Finance | ▁life | ▁studies | ▁meditation | ▁justice | ▁innovation | ▁management | ▁sports | ▁academia | ▁...\n",
      "\n",
      "\n",
      "linguistics Charles F. Hockett works in the field of <mask> .\n",
      "▁education | ▁medicine | ▁law | ▁science | ▁engineering | ▁the | ▁history | ▁finance | ▁music | ▁art | ▁religion | ▁research | ▁business | ▁literature | ▁Medicine | ▁technology | ▁health | ▁design | ▁Law | ▁communication | ▁Education | ▁History | ▁Science | ▁advertising | ▁marketing | ▁pharmacy | ▁Finance | ▁insurance | ▁construction | ▁writing | ▁English | ▁justice | ▁teaching | ▁Engineering | ▁development | ▁management | ▁sports | : | ▁energy | ▁planning | ▁memory | ▁information | ▁government | ▁security | ▁studies | ▁administration | ▁defense | ▁Art | ▁... | ▁Music\n",
      "\n",
      "\n",
      "cartoonist Garry Trudeau works in the field of <mask> .\n",
      "▁education | ▁law | ▁finance | ▁technology | ▁business | ▁science | ▁medicine | ▁engineering | ▁health | ▁advertising | ▁marketing | ▁research | ▁security | ▁design | ▁government | ▁Finance | ▁music | ▁communication | ▁Education | ▁Law | ▁insurance | ▁construction | ▁energy | ▁policy | ▁media | ▁the | ▁defense | ▁development | ▁justice | ▁innovation | ▁administration | ▁entertainment | ▁religion | ▁art | ▁sports | ▁Government | ▁information | ▁IT | ▁management | ▁Engineering | ▁Technology | ▁fashion | ▁travel | ▁Marketing | ▁planning | ▁Justice | ▁training | ▁history | ▁leadership | ▁teaching\n",
      "\n",
      "\n",
      "geometry David Hilbert works in the field of <mask> .\n",
      "▁education | ▁law | ▁music | ▁medicine | ▁science | ▁engineering | ▁design | ▁technology | ▁research | ▁business | ▁art | ▁marketing | ▁health | ▁finance | ▁advertising | ▁religion | ▁communication | ▁the | ▁history | ▁literature | ▁Education | ▁Law | ▁construction | ▁teaching | ▁writing | ▁development | ▁security | ▁film | ▁insurance | ▁Medicine | ▁sports | ▁media | ▁Finance | ▁Music | ▁Engineering | ▁management | ▁energy | ▁innovation | ▁information | ▁Science | ▁software | ▁fashion | ▁entertainment | ▁Technology | ▁Marketing | ▁History | ▁training | ▁math | ▁travel | ▁Art\n",
      "\n",
      "\n",
      "opera Richard Wagner works in the field of <mask> .\n",
      "▁music | ▁Music | ▁drama | ▁art | ▁jazz | ▁literature | ▁education | ▁opera | ▁performance | ▁religion | ▁medicine | ▁piano | ▁design | ▁science | ▁history | ▁dance | ▁magic | ▁engineering | ▁law | ▁comedy | ▁film | ▁the | ▁entertainment | ▁musical | ▁composition | ▁cinema | ▁writing | ▁Jazz | ▁research | ▁Wagner | ▁sound | ▁technology | ▁Opera | ▁Drama | ▁Art | ▁painting | ▁love | ▁production | ▁fantasy | ▁rock | ▁nature | ▁war | ▁theory | ▁play | ▁fiction | ▁fashion | ▁advertising | ▁culture | ▁interpretation | ▁language\n",
      "\n",
      "\n"
     ]
    }
   ],
   "source": [
    "data = mlama.get_lang_type('en', 'P101')\n",
    "sentences = data['sent'].tolist()\n",
    "objs = data['obj'].tolist()\n",
    "for i, [logit, act, out] in enumerate(xlmr.collect_neurons_iter(sentences)):\n",
    "    print(objs[i], sentences[i])\n",
    "    mask_ind, pred_tokens = xlmr.collect_topk_pred_mltokens([sentences[i]], 50, [logit])\n",
    "    print(\" | \".join(pred_tokens[0][0]))\n",
    "    # print(\" | \".join(pred_tokens[0][1]))\n",
    "    # print(\" | \".join(pred_tokens[0][2]))\n",
    "    print('\\n')\n",
    "    if i > 20: \n",
    "        break"
   ]
  },
  {
   "cell_type": "code",
   "execution_count": null,
   "id": "4db11d4d-e0b3-4bad-9c7b-9aa28779a61c",
   "metadata": {},
   "outputs": [],
   "source": []
  }
 ],
 "metadata": {
  "kernelspec": {
   "display_name": "Python 3 (ipykernel)",
   "language": "python",
   "name": "python3"
  },
  "language_info": {
   "codemirror_mode": {
    "name": "ipython",
    "version": 3
   },
   "file_extension": ".py",
   "mimetype": "text/x-python",
   "name": "python",
   "nbconvert_exporter": "python",
   "pygments_lexer": "ipython3",
   "version": "3.10.12"
  }
 },
 "nbformat": 4,
 "nbformat_minor": 5
}
