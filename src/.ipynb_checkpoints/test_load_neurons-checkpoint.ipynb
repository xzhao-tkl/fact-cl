{
 "cells": [
  {
   "cell_type": "code",
   "execution_count": 1,
   "id": "32b688cf-5fb4-4dc7-9e2d-d48fbad67533",
   "metadata": {},
   "outputs": [],
   "source": [
    "import os\n",
    "import torch\n",
    "import neurox"
   ]
  },
  {
   "cell_type": "code",
   "execution_count": 2,
   "id": "b86f4de7-26fe-4830-9007-ba841daa9443",
   "metadata": {
    "tags": []
   },
   "outputs": [],
   "source": [
    "from collect_neurons import CACHE_FOLDER, load_neurons\n",
    "from load_mlama import MaskedDataset"
   ]
  },
  {
   "cell_type": "code",
   "execution_count": 3,
   "id": "d1b60d47-1c4e-4cdb-8ae9-8447a5401e20",
   "metadata": {
    "tags": []
   },
   "outputs": [
    {
     "name": "stderr",
     "output_type": "stream",
     "text": [
      "100%|███████████████████████████████████████████████████████████████████████████████████| 53/53 [00:01<00:00, 50.02it/s]\n"
     ]
    }
   ],
   "source": [
    "mlama = MaskedDataset(\"mlama\")"
   ]
  },
  {
   "cell_type": "code",
   "execution_count": 44,
   "id": "a53741fc-04b4-4826-96cd-1a84e2068c41",
   "metadata": {
    "tags": []
   },
   "outputs": [],
   "source": [
    "frame = load_neurons('en', 'P178')"
   ]
  },
  {
   "cell_type": "code",
   "execution_count": 55,
   "id": "7def24a4-c782-4512-9fd6-221f884d60bc",
   "metadata": {
    "tags": []
   },
   "outputs": [],
   "source": [
    "acts = frame['acts'].tolist()\n",
    "outs = frame['outs'].tolist()"
   ]
  },
  {
   "cell_type": "code",
   "execution_count": 66,
   "id": "1e743027-d461-4d93-8b31-0dcb1d5eb9d4",
   "metadata": {
    "tags": []
   },
   "outputs": [],
   "source": [
    "maskid = 7\n",
    "objs = frame['obj']"
   ]
  },
  {
   "cell_type": "code",
   "execution_count": 64,
   "id": "b6ae9e68-12cb-4c28-b912-aac1f1561514",
   "metadata": {
    "tags": []
   },
   "outputs": [
    {
     "data": {
      "text/plain": [
       "torch.Size([33792])"
      ]
     },
     "execution_count": 64,
     "metadata": {},
     "output_type": "execute_result"
    }
   ],
   "source": [
    "for i in range(len(acts)):\n",
    "    x = acts[i][maskid][0].flatten()\n",
    "    y = objs"
   ]
  },
  {
   "cell_type": "code",
   "execution_count": 48,
   "id": "c6af03dd-9c65-48ca-9ad1-49b11b97d57b",
   "metadata": {
    "tags": []
   },
   "outputs": [
    {
     "data": {
      "text/plain": [
       "(       index                                 sent lang relid lineid  \\\n",
       " 15696      0  MessagePad is developed by <mask> .   en  P178      0   \n",
       " 15697      0       macOS is developed by <mask> .   en  P178      1   \n",
       " 15698      0         iOS is developed by <mask> .   en  P178      2   \n",
       " 15699      0      Safari is developed by <mask> .   en  P178      3   \n",
       " 15700      0       iLife is developed by <mask> .   en  P178      4   \n",
       " \n",
       "               obj  \n",
       " 15696  Apple Inc.  \n",
       " 15697  Apple Inc.  \n",
       " 15698  Apple Inc.  \n",
       " 15699  Apple Inc.  \n",
       " 15700  Apple Inc.  ,\n",
       " 591)"
      ]
     },
     "execution_count": 48,
     "metadata": {},
     "output_type": "execute_result"
    }
   ],
   "source": [
    "origin = mlama.get_lang_type('en', 'P178')\n",
    "origin.head(), len(origin)"
   ]
  },
  {
   "cell_type": "code",
   "execution_count": 37,
   "id": "73499d4a-c2c2-44e8-8d63-bf397a14ed19",
   "metadata": {
    "tags": []
   },
   "outputs": [
    {
     "data": {
      "text/plain": [
       "{'Access',\n",
       " 'Adobe',\n",
       " 'Airbus basic',\n",
       " 'Amazon',\n",
       " 'Apple Inc.',\n",
       " 'Atari',\n",
       " 'Boeing',\n",
       " 'British Broadcasting Corporation',\n",
       " 'Douglas',\n",
       " 'Fairchild',\n",
       " 'Gibson',\n",
       " 'Google',\n",
       " 'Honda',\n",
       " 'IBM',\n",
       " 'Intel',\n",
       " 'Microsoft',\n",
       " 'Mitsubishi',\n",
       " 'NATO',\n",
       " 'Nintendo',\n",
       " 'Nokia',\n",
       " 'Samsung',\n",
       " 'Sega',\n",
       " 'Sony',\n",
       " 'Square',\n",
       " 'Yahoo'}"
      ]
     },
     "execution_count": 37,
     "metadata": {},
     "output_type": "execute_result"
    }
   ],
   "source": [
    "set(origin['obj'].tolist())"
   ]
  },
  {
   "cell_type": "code",
   "execution_count": 42,
   "id": "76d944b3-a9f1-49d2-9c8b-d8c68462290f",
   "metadata": {
    "tags": []
   },
   "outputs": [
    {
     "data": {
      "text/plain": [
       "torch.Size([12, 1, 11, 3072])"
      ]
     },
     "execution_count": 42,
     "metadata": {},
     "output_type": "execute_result"
    }
   ],
   "source": [
    "frame['acts'].iloc[0].shape"
   ]
  },
  {
   "cell_type": "code",
   "execution_count": 43,
   "id": "baa33739-ed86-47be-9d86-2131c1da45aa",
   "metadata": {
    "tags": []
   },
   "outputs": [
    {
     "data": {
      "text/plain": [
       "15696    [:, ▁the, ▁WordPress, ▁Microsoft, ▁Google, ▁a,...\n",
       "15697    [▁Apple, ▁Microsoft, ▁mac, ▁Mac, ▁Intel, ▁appl...\n",
       "15698    [▁Apple, ▁Microsoft, ▁Android, ▁Google, ▁apple...\n",
       "15699    [▁WordPress, :, ▁Blogger, ▁Google, ▁Wordpress,...\n",
       "15700    [▁WordPress, :, ▁Microsoft, ▁Google, ▁Blogger,...\n",
       "                               ...                        \n",
       "16282    [▁the, :, ▁The, ▁David, ., ▁a, ▁:, ▁John, </s>...\n",
       "16283    [▁Microsoft, ▁Windows, :, ▁the, ▁Google, ▁Adob...\n",
       "16284    [▁Microsoft, ▁the, :, ▁WordPress, ▁developer, ...\n",
       "16285    [▁Adobe, :, ▁the, ▁Microsoft, ▁developer, ▁Wor...\n",
       "16286    [▁the, :, ▁a, ▁:, ▁The, ., </s>, ▁company, ▁1,...\n",
       "Name: preds, Length: 591, dtype: object"
      ]
     },
     "execution_count": 43,
     "metadata": {},
     "output_type": "execute_result"
    }
   ],
   "source": [
    "frame['preds']"
   ]
  },
  {
   "cell_type": "code",
   "execution_count": null,
   "id": "093ed2fb-33a9-4a2b-b8f2-d6b5dbf59aba",
   "metadata": {},
   "outputs": [],
   "source": []
  }
 ],
 "metadata": {
  "kernelspec": {
   "display_name": "Python 3 (ipykernel)",
   "language": "python",
   "name": "python3"
  },
  "language_info": {
   "codemirror_mode": {
    "name": "ipython",
    "version": 3
   },
   "file_extension": ".py",
   "mimetype": "text/x-python",
   "name": "python",
   "nbconvert_exporter": "python",
   "pygments_lexer": "ipython3",
   "version": "3.10.12"
  }
 },
 "nbformat": 4,
 "nbformat_minor": 5
}
