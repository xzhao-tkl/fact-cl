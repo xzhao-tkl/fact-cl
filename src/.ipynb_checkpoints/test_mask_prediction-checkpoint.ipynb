{
 "cells": [
  {
   "cell_type": "code",
   "execution_count": 1,
   "id": "4ac73895-a3ab-4217-a01a-4336fb3d4a92",
   "metadata": {
    "tags": []
   },
   "outputs": [
    {
     "data": {
      "text/plain": [
       "'/home/xzhao/workspace/probing-mulitlingual/src'"
      ]
     },
     "execution_count": 1,
     "metadata": {},
     "output_type": "execute_result"
    }
   ],
   "source": [
    "import os, json\n",
    "import torch\n",
    "import argparse\n",
    "import pandas as pd\n",
    "from tqdm import tqdm\n",
    "from mask_dataset import MaskedDataset\n",
    "from modules.xlmr_base_model import XLMBaseModel\n",
    "from modules.bert_base_model import BERTBaseModel\n",
    "from mask_prediction import load_objects, predict_mask_tokens, batchify\n",
    "os.getcwd()"
   ]
  },
  {
   "cell_type": "code",
   "execution_count": 2,
   "id": "b0338f4e-4bca-431d-b6f8-e88ef35172cb",
   "metadata": {
    "tags": []
   },
   "outputs": [],
   "source": [
    "device = torch.device(\"cuda:0\")\n",
    "model = XLMBaseModel(device)\n",
    "# model = BERTBaseModel(device)"
   ]
  },
  {
   "cell_type": "code",
   "execution_count": 6,
   "id": "e5a5ac29-1d9e-454c-9c55-4829d664df2b",
   "metadata": {
    "tags": []
   },
   "outputs": [],
   "source": [
    "# load dataset\n",
    "mlama = MaskedDataset(\"mlama\", model.mask_token, model.name)\n",
    "# mlama = MaskedDataset(\"mlama\", '[MASK]', 1)\n",
    "data = mlama.get_lang_type('en', 'P131')\n",
    "\n",
    "lang2objs = {}\n",
    "for lang in mlama.langs:\n",
    "    objs = load_objects(lang, model.name, model)\n",
    "    lang2objs.update({lang:objs})"
   ]
  },
  {
   "cell_type": "code",
   "execution_count": 7,
   "id": "ed65e8c8-5868-4109-8987-5465e6c9f402",
   "metadata": {
    "tags": []
   },
   "outputs": [
    {
     "data": {
      "text/plain": [
       "[[['▁the'], ['▁area']],\n",
       " [['▁the'], ['▁Caribbean']],\n",
       " [['▁the'], ['▁Carolina']],\n",
       " [['▁the'], ['▁County']],\n",
       " [['▁the'], ['▁County']],\n",
       " [['▁North'], ['▁Carolina']],\n",
       " [['▁the'], ['▁distance']],\n",
       " [['▁the'], ['▁India']],\n",
       " [['▁the'], ['▁County']],\n",
       " [['▁the'], ['▁Netherlands']],\n",
       " [['▁the'], ['▁Park']],\n",
       " [['▁the'], ['▁of']],\n",
       " [['▁the'], ['▁Angeles']],\n",
       " [['▁San'], ['▁County']],\n",
       " [['▁New'], ['▁Carolina']],\n",
       " [['▁North'], ['▁County']],\n",
       " [['▁the'], ['▁County']],\n",
       " [['▁the'], ['▁County']],\n",
       " [['▁the'], ['▁China']],\n",
       " [['▁the'], ['▁distance']],\n",
       " [['▁the'], ['▁Park']],\n",
       " [['▁Uttar'], ['▁Pradesh']],\n",
       " [['▁the'], ['▁Philippines']],\n",
       " [['▁the'], ['▁County']],\n",
       " [['▁the'], ['▁County']],\n",
       " [['▁the'], ['▁area']],\n",
       " [['▁the'], ['▁City']],\n",
       " [['▁the'], ['▁County']],\n",
       " [['▁West'], ['▁County']],\n",
       " [['▁Grand'], ['▁Canyon']],\n",
       " [['▁the'], ['▁City']],\n",
       " [['▁the'], ['▁County']]]"
      ]
     },
     "execution_count": 7,
     "metadata": {},
     "output_type": "execute_result"
    }
   ],
   "source": [
    "# Test mbert get_mask_tokens function\n",
    "sent = data['sent']\n",
    "sent2 = mlama.replace_with_mask(sent, 2, model.mask_token)\n",
    "predicts = model.get_mask_tokens(sent2[:32], 2)\n",
    "predicts"
   ]
  },
  {
   "cell_type": "code",
   "execution_count": 16,
   "id": "421b0664-f204-48ab-b072-2157bcc04032",
   "metadata": {
    "tags": []
   },
   "outputs": [
    {
     "data": {
      "text/plain": [
       "[[70, 16128],\n",
       " [70, 223487],\n",
       " [70, 96220],\n",
       " [70, 47064],\n",
       " [70, 47064],\n",
       " [23924, 96220],\n",
       " [70, 62488],\n",
       " [70, 5596],\n",
       " [70, 47064],\n",
       " [70, 231118],\n",
       " [70, 5227],\n",
       " [70, 111],\n",
       " [70, 31754],\n",
       " [1735, 47064],\n",
       " [2356, 96220],\n",
       " [23924, 47064],\n",
       " [70, 47064],\n",
       " [70, 47064],\n",
       " [70, 9098],\n",
       " [70, 62488],\n",
       " [70, 5227],\n",
       " [156910, 21979],\n",
       " [70, 129535],\n",
       " [70, 47064],\n",
       " [70, 47064],\n",
       " [70, 16128],\n",
       " [70, 6406],\n",
       " [70, 47064],\n",
       " [10542, 47064],\n",
       " [12801, 193266],\n",
       " [70, 6406],\n",
       " [70, 47064]]"
      ]
     },
     "execution_count": 16,
     "metadata": {},
     "output_type": "execute_result"
    }
   ],
   "source": [
    "def tokens2id(pred, tokenizer):\n",
    "    token_ids = []\n",
    "    for tokens in pred:\n",
    "        assert(all([len(token) == 1 and type(token[0]) == str for token in tokens]) )\n",
    "        tokens = [token[0] for token in tokens]\n",
    "        token_ids.append(tokenizer.convert_tokens_to_ids(tokens))\n",
    "    return token_ids\n",
    "tokens2id(predicts, model.tokenizer)"
   ]
  },
  {
   "cell_type": "code",
   "execution_count": 14,
   "id": "b7e96b87-9013-4a11-95c3-2de194dcd49b",
   "metadata": {
    "tags": []
   },
   "outputs": [
    {
     "name": "stdout",
     "output_type": "stream",
     "text": [
      "Predict mask tokens for en-P103\n",
      "Start to predict masked tokens for lang-en, relation P103\n"
     ]
    }
   ],
   "source": [
    "# Test predict_mask_tokens function for mbert\n",
    "lang = \"en\"\n",
    "rel = \"P103\"\n",
    "predict_mask_tokens(model, mlama, objs, lang, rel, \"../result/prediction-mbert\")"
   ]
  },
  {
   "cell_type": "code",
   "execution_count": null,
   "id": "42e0b218-e9bc-4ec3-901c-8753ce7d5aff",
   "metadata": {
    "tags": []
   },
   "outputs": [],
   "source": [
    "# Test evaluation.py:predict_mask_tokens() - 1\n",
    "lang2objs = {}\n",
    "for lang in mlama.langs:\n",
    "    objs = load_objects(lang, xlmr)\n",
    "    lang2objs.update({lang:objs})\n",
    "    \n",
    "# Test evaluation.py:predict_mask_tokens() - 2\n",
    "for lang in mlama.langs:\n",
    "    objs = load_objects(lang, xlmr)\n",
    "    for rel in objs.keys():\n",
    "        # predict_mask_tokens(xlmr, mlama, lang2objs[lang], lang, rel)\n",
    "        predict_mask_tokens(xlmr, mlama, objs, lang, rel)"
   ]
  },
  {
   "cell_type": "code",
   "execution_count": null,
   "id": "6a4c663e-6461-49b3-bf10-6247917734e5",
   "metadata": {
    "tags": []
   },
   "outputs": [],
   "source": [
    "# Test generating batches of sentences\n",
    "frame = pd.DataFrame(columns=['id', 'sent', 'prediction'])\n",
    "for rel in objs.keys():\n",
    "    print('Start to analyze {}'.format(rel))\n",
    "    maxlen = max(list(objs[rel].keys()))\n",
    "    for i in range(2):\n",
    "        relations = mlama.get_lang_type('en', rel)\n",
    "        org_sents = relations['sent']\n",
    "        ids = relations.index\n",
    "        sents = mlama.replace_with_mask(org_sents, i+2, model.mask_token)\n",
    "        batches = batchify(list(zip(ids, sents)), 32)\n",
    "        for batch in batches:\n",
    "            ids = list(zip(*batch))[0]\n",
    "            sents = list(zip(*batch))[1]\n",
    "            results = xlmr.get_mask_tokens(sents, i+2)\n",
    "            samples = list(zip(ids, sents, results))\n",
    "            item = {\n",
    "                'id': ids,\n",
    "                'sent': sents,\n",
    "                'prediction': results}\n",
    "            frame = pd.concat([frame, pd.DataFrame(item)])\n",
    "    break"
   ]
  },
  {
   "cell_type": "code",
   "execution_count": 11,
   "id": "bf99f26f-9fb7-4856-8692-0b5cca20beb1",
   "metadata": {
    "tags": []
   },
   "outputs": [
    {
     "data": {
      "text/html": [
       "<div>\n",
       "<style scoped>\n",
       "    .dataframe tbody tr th:only-of-type {\n",
       "        vertical-align: middle;\n",
       "    }\n",
       "\n",
       "    .dataframe tbody tr th {\n",
       "        vertical-align: top;\n",
       "    }\n",
       "\n",
       "    .dataframe thead th {\n",
       "        text-align: right;\n",
       "    }\n",
       "</style>\n",
       "<table border=\"1\" class=\"dataframe\">\n",
       "  <thead>\n",
       "    <tr style=\"text-align: right;\">\n",
       "      <th></th>\n",
       "      <th>id</th>\n",
       "      <th>sent</th>\n",
       "      <th>prediction</th>\n",
       "    </tr>\n",
       "  </thead>\n",
       "  <tbody>\n",
       "    <tr>\n",
       "      <th>0</th>\n",
       "      <td>16521</td>\n",
       "      <td>A605 road is located in &lt;mask&gt; &lt;mask&gt; .</td>\n",
       "      <td>[[▁the], [▁area]]</td>\n",
       "    </tr>\n",
       "    <tr>\n",
       "      <th>1</th>\n",
       "      <td>16522</td>\n",
       "      <td>Kupreanof Island is located in &lt;mask&gt; &lt;mask&gt; .</td>\n",
       "      <td>[[▁the], [▁Caribbean]]</td>\n",
       "    </tr>\n",
       "    <tr>\n",
       "      <th>2</th>\n",
       "      <td>16523</td>\n",
       "      <td>Pershing County is located in &lt;mask&gt; &lt;mask&gt; .</td>\n",
       "      <td>[[▁the], [▁Carolina]]</td>\n",
       "    </tr>\n",
       "    <tr>\n",
       "      <th>3</th>\n",
       "      <td>16524</td>\n",
       "      <td>Porcupine Hills is located in &lt;mask&gt; &lt;mask&gt; .</td>\n",
       "      <td>[[▁the], [▁County]]</td>\n",
       "    </tr>\n",
       "    <tr>\n",
       "      <th>4</th>\n",
       "      <td>16525</td>\n",
       "      <td>Minnesota State Highway 36 is located in &lt;mask...</td>\n",
       "      <td>[[▁the], [▁County]]</td>\n",
       "    </tr>\n",
       "    <tr>\n",
       "      <th>...</th>\n",
       "      <td>...</td>\n",
       "      <td>...</td>\n",
       "      <td>...</td>\n",
       "    </tr>\n",
       "    <tr>\n",
       "      <th>12</th>\n",
       "      <td>17397</td>\n",
       "      <td>John Paul II Catholic University of Lublin is ...</td>\n",
       "      <td>[[▁Lublin], [,], [▁Poland]]</td>\n",
       "    </tr>\n",
       "    <tr>\n",
       "      <th>13</th>\n",
       "      <td>17398</td>\n",
       "      <td>Sugarloaf Key is located in &lt;mask&gt; &lt;mask&gt; &lt;mas...</td>\n",
       "      <td>[[▁the], [,], [▁Island]]</td>\n",
       "    </tr>\n",
       "    <tr>\n",
       "      <th>14</th>\n",
       "      <td>17399</td>\n",
       "      <td>Cheyenne Frontier Days is located in &lt;mask&gt; &lt;m...</td>\n",
       "      <td>[[▁the], [,], [,]]</td>\n",
       "    </tr>\n",
       "    <tr>\n",
       "      <th>15</th>\n",
       "      <td>17400</td>\n",
       "      <td>Heaton Park is located in &lt;mask&gt; &lt;mask&gt; &lt;mask&gt; .</td>\n",
       "      <td>[[▁the], [ton], [▁of]]</td>\n",
       "    </tr>\n",
       "    <tr>\n",
       "      <th>16</th>\n",
       "      <td>17401</td>\n",
       "      <td>Leeds Road is located in &lt;mask&gt; &lt;mask&gt; &lt;mask&gt; .</td>\n",
       "      <td>[[▁the], [ed], [s]]</td>\n",
       "    </tr>\n",
       "  </tbody>\n",
       "</table>\n",
       "<p>1762 rows × 3 columns</p>\n",
       "</div>"
      ],
      "text/plain": [
       "       id                                               sent  \\\n",
       "0   16521            A605 road is located in <mask> <mask> .   \n",
       "1   16522     Kupreanof Island is located in <mask> <mask> .   \n",
       "2   16523      Pershing County is located in <mask> <mask> .   \n",
       "3   16524      Porcupine Hills is located in <mask> <mask> .   \n",
       "4   16525  Minnesota State Highway 36 is located in <mask...   \n",
       "..    ...                                                ...   \n",
       "12  17397  John Paul II Catholic University of Lublin is ...   \n",
       "13  17398  Sugarloaf Key is located in <mask> <mask> <mas...   \n",
       "14  17399  Cheyenne Frontier Days is located in <mask> <m...   \n",
       "15  17400   Heaton Park is located in <mask> <mask> <mask> .   \n",
       "16  17401    Leeds Road is located in <mask> <mask> <mask> .   \n",
       "\n",
       "                     prediction  \n",
       "0             [[▁the], [▁area]]  \n",
       "1        [[▁the], [▁Caribbean]]  \n",
       "2         [[▁the], [▁Carolina]]  \n",
       "3           [[▁the], [▁County]]  \n",
       "4           [[▁the], [▁County]]  \n",
       "..                          ...  \n",
       "12  [[▁Lublin], [,], [▁Poland]]  \n",
       "13     [[▁the], [,], [▁Island]]  \n",
       "14           [[▁the], [,], [,]]  \n",
       "15       [[▁the], [ton], [▁of]]  \n",
       "16          [[▁the], [ed], [s]]  \n",
       "\n",
       "[1762 rows x 3 columns]"
      ]
     },
     "execution_count": 11,
     "metadata": {},
     "output_type": "execute_result"
    }
   ],
   "source": [
    "frame"
   ]
  },
  {
   "cell_type": "code",
   "execution_count": 25,
   "id": "73d1c196-69b3-4528-ac87-746d2575e039",
   "metadata": {
    "tags": []
   },
   "outputs": [],
   "source": [
    "# Test batchify - 1\n",
    "batches = batchify(sentences, 32)"
   ]
  },
  {
   "cell_type": "code",
   "execution_count": 39,
   "id": "01d90154-84e5-4458-8861-0e71b17c4988",
   "metadata": {
    "tags": []
   },
   "outputs": [],
   "source": [
    "# Test load_objects\n",
    "objs = load_objects('zh', None)"
   ]
  },
  {
   "cell_type": "code",
   "execution_count": null,
   "id": "2a0801b5-f349-41ea-b544-e8227fb3a985",
   "metadata": {},
   "outputs": [],
   "source": [
    "# Test batchify function - 2\n",
    "def batchify(sents, batch_size):\n",
    "    l = len(sents)\n",
    "    for ndx in range(0, l, batch_size):\n",
    "        yield sents[ndx:min(ndx + batch_size, l)]\n",
    "\n",
    "for batch in batches:\n",
    "    print(batch)\n",
    "    results = xlmr.get_mask_tokens(batch, 1)\n",
    "    print(results)"
   ]
  }
 ],
 "metadata": {
  "kernelspec": {
   "display_name": "Python 3 (ipykernel)",
   "language": "python",
   "name": "python3"
  },
  "language_info": {
   "codemirror_mode": {
    "name": "ipython",
    "version": 3
   },
   "file_extension": ".py",
   "mimetype": "text/x-python",
   "name": "python",
   "nbconvert_exporter": "python",
   "pygments_lexer": "ipython3",
   "version": "3.10.12"
  }
 },
 "nbformat": 4,
 "nbformat_minor": 5
}
