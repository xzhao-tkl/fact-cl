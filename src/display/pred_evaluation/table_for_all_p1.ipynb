{
 "cells": [
  {
   "cell_type": "code",
   "execution_count": 1,
   "metadata": {},
   "outputs": [
    {
     "name": "stdout",
     "output_type": "stream",
     "text": [
      "Load pre-saved file /home/xzhao/workspace/probing-mulitlingual/result/dataset-mbert/mlama-dataset.pkl for MaskedDataset instance\n"
     ]
    }
   ],
   "source": [
    "import sys\n",
    "sys.path.append(\"../../../src\")\n",
    "\n",
    "from mask_dataset import MaskedDataset\n",
    "dataset = MaskedDataset(model_name='mbert')"
   ]
  },
  {
   "cell_type": "code",
   "execution_count": 2,
   "metadata": {},
   "outputs": [],
   "source": [
    "from pred_evaluation import get_full_match_matrix_by_uuid, get_partial_match_matrix_by_uuid, calculate_overall_p1_score_standard, calculate_overall_p1_score_from_match_matrix\n",
    "full_lang2p1_mbert = calculate_overall_p1_score_standard(dataset)\n",
    "langs, all_uuids, mbert_full_matrix = get_full_match_matrix_by_uuid(dataset)\n",
    "langs, all_uuids, mbert_partial_matrix = get_partial_match_matrix_by_uuid(dataset)\n",
    "partial_lang2p1_mbert = calculate_overall_p1_score_from_match_matrix(mbert_partial_matrix, langs, dataset)"
   ]
  },
  {
   "cell_type": "code",
   "execution_count": 3,
   "metadata": {},
   "outputs": [
    {
     "name": "stdout",
     "output_type": "stream",
     "text": [
      "Load pre-saved file /home/xzhao/workspace/probing-mulitlingual/result/dataset-xlmr/mlama-dataset.pkl for MaskedDataset instance\n"
     ]
    }
   ],
   "source": [
    "dataset = MaskedDataset(model_name='xlmr')\n",
    "full_lang2p1_xlmr = calculate_overall_p1_score_standard(dataset)\n",
    "langs, all_uuids, xlmr_full_matrix = get_full_match_matrix_by_uuid(dataset)\n",
    "langs, all_uuids, xlmr_partial_matrix = get_partial_match_matrix_by_uuid(dataset)\n",
    "partial_lang2p1_xlmr = calculate_overall_p1_score_from_match_matrix(xlmr_partial_matrix, langs, dataset)"
   ]
  },
  {
   "cell_type": "code",
   "execution_count": 4,
   "metadata": {},
   "outputs": [],
   "source": [
    "import pandas as pd\n",
    "sorted_langs = ['en', 'id', 'it', 'de', 'es', 'nl', 'pt', 'ca', 'tr', 'da', 'ms', 'sv', 'fr', 'af', 'ro', 'vi', 'gl', 'fa', 'cy', 'el', 'he', 'ko', \n",
    "                 'zh', 'pl', 'ar', 'hu', 'hr', 'cs', 'ceb', 'et', 'sq', \n",
    "                 'sk', 'bg', 'ur', 'uk', 'fi', 'hy', 'sr', 'hi', 'be', 'eu', 'lv', 'az', 'ru', 'bn', 'ka', 'ja', 'sl', 'lt', 'la', 'ga', 'ta', 'th']\n",
    "\n",
    "df = pd.DataFrame()\n",
    "for lang in sorted_langs:\n",
    "    p1_scores = {\n",
    "        \"Language\": dataset.display_lang(lang, prefix=False),\n",
    "        \"M-BERT & Full-match\": [\"{:.2%}\".format(full_lang2p1_mbert[lang])],\n",
    "        \"M-BERT & Partial-match\": [\"{:.2%}\".format(partial_lang2p1_mbert[lang])],\n",
    "        \"XLM-R & Full-match\": [\"{:.2%}\".format(full_lang2p1_xlmr[lang])],\n",
    "        \"XLM-R & Partial-match\": [\"{:.2%}\".format(partial_lang2p1_xlmr[lang])]\n",
    "    }\n",
    "    # print(p1_scores)\n",
    "    df = pd.concat([df, pd.DataFrame(p1_scores)], ignore_index=True)"
   ]
  },
  {
   "cell_type": "code",
   "execution_count": 6,
   "metadata": {},
   "outputs": [
    {
     "name": "stdout",
     "output_type": "stream",
     "text": [
      "\\begin{tabular}{lllll}\n",
      "Language & M-BERT & Full-match & M-BERT & Partial-match & XLM-R & Full-match & XLM-R & Partial-match \\\\\n",
      "en-English & 19.07% & 22.57% & 17.08% & 21.17% \\\\\n",
      "id-Indonesian & 18.15% & 22.43% & 13.99% & 19.23% \\\\\n",
      "it-Italian & 16.94% & 19.78% & 10.80% & 13.53% \\\\\n",
      "de-German & 16.91% & 20.33% & 12.06% & 14.78% \\\\\n",
      "es-Spanish & 16.65% & 20.28% & 10.51% & 12.87% \\\\\n",
      "nl-Dutch & 15.98% & 18.30% & 10.47% & 13.04% \\\\\n",
      "pt-Portuguese & 14.76% & 17.96% & 14.05% & 17.12% \\\\\n",
      "ca-Catalan & 14.11% & 17.05% & 5.23% & 8.60% \\\\\n",
      "tr-Turkish & 14.08% & 17.65% & 13.79% & 17.47% \\\\\n",
      "da-Danish & 13.56% & 16.61% & 12.01% & 15.63% \\\\\n",
      "ms-Malay & 13.14% & 16.99% & 11.20% & 14.76% \\\\\n",
      "sv-Swedish & 12.89% & 15.32% & 11.63% & 13.63% \\\\\n",
      "fr-French & 12.68% & 20.18% & 7.79% & 13.81% \\\\\n",
      "af-Afrikaans & 12.05% & 14.47% & 8.17% & 10.09% \\\\\n",
      "ro-Romanian & 11.33% & 14.23% & 13.38% & 17.46% \\\\\n",
      "vi-Vietnamese & 10.93% & 14.58% & 11.78% & 15.67% \\\\\n",
      "gl-Galician & 10.00% & 13.03% & 6.04% & 8.00% \\\\\n",
      "fa-Persian & 8.67% & 12.47% & 7.30% & 9.36% \\\\\n",
      "cy-Welsh & 7.98% & 9.16% & 5.08% & 6.05% \\\\\n",
      "el-Greek & 7.24% & 8.17% & 5.68% & 7.41% \\\\\n",
      "he-Hebrew & 6.78% & 9.09% & 4.60% & 6.44% \\\\\n",
      "ko-Korean & 6.73% & 9.24% & 7.18% & 8.56% \\\\\n",
      "zh-Chinese & 6.51% & 11.95% & 4.05% & 5.91% \\\\\n",
      "pl-Polish & 6.33% & 8.45% & 5.09% & 8.30% \\\\\n",
      "ar-Arabic & 6.11% & 8.25% & 6.16% & 7.63% \\\\\n",
      "hu-Hungarian & 5.86% & 10.08% & 5.42% & 11.17% \\\\\n",
      "hr-Croatian & 5.65% & 9.51% & 2.36% & 5.27% \\\\\n",
      "cs-Czech & 5.63% & 8.62% & 1.21% & 4.34% \\\\\n",
      "ceb-Cebuano & 5.11% & 5.84% & 0.76% & 0.88% \\\\\n",
      "et-Estonian & 4.97% & 8.24% & 3.82% & 6.01% \\\\\n",
      "sq-Albanian & 4.93% & 5.62% & 3.31% & 4.13% \\\\\n",
      "sk-Slovak & 4.90% & 7.08% & 2.84% & 4.84% \\\\\n",
      "bg-Bulgarian & 4.51% & 6.58% & 5.07% & 7.44% \\\\\n",
      "ur-Urdu & 4.41% & 8.02% & 4.40% & 6.31% \\\\\n",
      "uk-Ukrainian & 3.84% & 6.56% & 0.64% & 4.18% \\\\\n",
      "fi-Finnish & 3.58% & 7.11% & 4.43% & 8.54% \\\\\n",
      "hy-Armenian & 3.25% & 5.01% & 3.90% & 4.66% \\\\\n",
      "sr-Serbian & 3.07% & 5.95% & 2.45% & 5.59% \\\\\n",
      "hi-Hindi & 2.95% & 5.63% & 3.78% & 6.61% \\\\\n",
      "be-Belarusian & 2.80% & 4.49% & 0.78% & 1.54% \\\\\n",
      "eu-Basque & 2.45% & 5.42% & 1.19% & 2.46% \\\\\n",
      "lv-Latvian & 2.15% & 3.79% & 1.66% & 2.94% \\\\\n",
      "az-Azerbaijani & 1.99% & 5.60% & 3.21% & 6.38% \\\\\n",
      "ru-Russian & 1.90% & 5.98% & 0.79% & 4.07% \\\\\n",
      "bn-Bangla & 1.76% & 3.12% & 2.67% & 4.10% \\\\\n",
      "ka-Georgian & 1.45% & 1.79% & 1.89% & 2.31% \\\\\n",
      "ja-Japanese & 1.34% & 4.85% & 4.78% & 5.26% \\\\\n",
      "sl-Slovenian & 1.26% & 3.80% & 1.77% & 3.70% \\\\\n",
      "lt-Lithuanian & 1.25% & 1.94% & 2.31% & 3.42% \\\\\n",
      "la-Latin & 1.21% & 2.24% & 1.83% & 2.53% \\\\\n",
      "ga-Irish & 0.96% & 1.31% & 0.56% & 0.75% \\\\\n",
      "ta-Tamil & 0.90% & 1.93% & 0.93% & 1.24% \\\\\n",
      "th-Thai & 0.49% & 0.65% & 2.75% & 4.26% \\\\\n",
      "\\end{tabular}\n",
      "\n"
     ]
    }
   ],
   "source": [
    "print(df.style.hide(axis=\"index\").to_latex())\n",
    "# print(df.style.to_latex())"
   ]
  },
  {
   "cell_type": "code",
   "execution_count": 13,
   "metadata": {},
   "outputs": [
    {
     "data": {
      "text/plain": [
       "843143"
      ]
     },
     "execution_count": 13,
     "metadata": {},
     "output_type": "execute_result"
    }
   ],
   "source": [
    "overall = 0\n",
    "uuid_info = dataset.get_uuid_info()\n",
    "for rel in uuid_info:\n",
    "    for uuid in uuid_info[rel]:\n",
    "        overall += len(uuid_info[rel][uuid][\"langs\"])\n",
    "overall  \n"
   ]
  },
  {
   "cell_type": "code",
   "execution_count": 21,
   "metadata": {},
   "outputs": [
    {
     "name": "stdout",
     "output_type": "stream",
     "text": [
      "8.85%\n",
      "11.84%\n",
      "6.88%\n",
      "9.52%\n"
     ]
    }
   ],
   "source": [
    "print(\"{:.2%}\".format(mbert_full_matrix.sum()/overall))\n",
    "print(\"{:.2%}\".format(mbert_partial_matrix.sum()/overall))\n",
    "print(\"{:.2%}\".format(xlmr_full_matrix.sum()/overall))\n",
    "print(\"{:.2%}\".format(xlmr_partial_matrix.sum()/overall))"
   ]
  },
  {
   "cell_type": "code",
   "execution_count": null,
   "metadata": {},
   "outputs": [],
   "source": []
  }
 ],
 "metadata": {
  "kernelspec": {
   "display_name": "Python 3",
   "language": "python",
   "name": "python3"
  },
  "language_info": {
   "codemirror_mode": {
    "name": "ipython",
    "version": 3
   },
   "file_extension": ".py",
   "mimetype": "text/x-python",
   "name": "python",
   "nbconvert_exporter": "python",
   "pygments_lexer": "ipython3",
   "version": "3.10.12"
  },
  "orig_nbformat": 4
 },
 "nbformat": 4,
 "nbformat_minor": 2
}
