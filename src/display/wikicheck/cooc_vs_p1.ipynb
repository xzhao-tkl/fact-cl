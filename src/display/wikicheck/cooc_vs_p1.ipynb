{
 "cells": [
  {
   "cell_type": "code",
   "execution_count": 1,
   "metadata": {},
   "outputs": [
    {
     "name": "stdout",
     "output_type": "stream",
     "text": [
      "Load pre-saved file /home/xzhao/workspace/probing-mulitlingual/result/dataset-mbert/mlama-dataset.pkl for MaskedDataset instance\n"
     ]
    }
   ],
   "source": [
    "import sys\n",
    "import numpy as np \n",
    "sys.path.append('../../../src/')\n",
    "sys.path.append('../../../src/wikidata')\n",
    "import matplotlib.pyplot as plt\n",
    "from mask_dataset import MaskedDataset\n",
    "dataset = MaskedDataset(model_name=\"mbert\", reload=False)"
   ]
  },
  {
   "cell_type": "code",
   "execution_count": null,
   "metadata": {},
   "outputs": [],
   "source": [
    "from utils import chunk_list_by_value_range\n",
    "from wiki_evaluation import _get_correct_wrong_prediction_of_inwiki_fk\n",
    "\n",
    "def plot_stacked_bar_and_percentage_of_inwiki_prediction(dataset, chunk_size=50, max_cnt=2500):\n",
    "    raw_all_cnts, raw_corrt_cnts, raw_wrong_cnts = _get_correct_wrong_prediction_of_inwiki_fk(dataset)\n",
    "    _, chunked_range, chunked_idx = chunk_list_by_value_range(raw_all_cnts[1:], chunk_size=chunk_size, max_val=max_cnt)\n",
    "    x_labels = [f\"{sidx + 1} ~ {eidx + 1}\" for sidx, eidx in chunked_range]\n",
    "\n",
    "    corrt_cnts = []\n",
    "    wrong_cnts = []\n",
    "    for idxs in chunked_idx:\n",
    "        corrt_cnts.append(sum(raw_corrt_cnts[idx] for idx in idxs))\n",
    "        wrong_cnts.append(sum(raw_wrong_cnts[idx] for idx in idxs))\n",
    "\n",
    "    corrt_rate = [corrt_cnts[i]/(corrt_cnts[i] + wrong_cnts[i]) for i in range(len(corrt_cnts))]\n",
    "\n",
    "    fig, ax1 = plt.subplots(figsize=(10, 7))\n",
    "    ax1.bar(x_labels, corrt_cnts, label='in-wiki & predicted')\n",
    "    ax1.bar(x_labels, wrong_cnts, bottom=corrt_cnts, label='in-wiki & non-predicted')\n",
    "    ax1.legend()\n",
    "    ax1.tick_params(axis='y')\n",
    "    ax1.set_xticklabels(x_labels, rotation=90)\n",
    "    \n",
    "    \n",
    "    ax2 = ax1.twinx()\n",
    "    ax2.set_ylabel('The percentage of inwiki & predicted FK')\n",
    "    ax2.plot(x_labels, corrt_rate, marker='o', linestyle='-')\n",
    "    ax2.tick_params(axis='y')\n",
    "    ax1.set_title('Distribution of wiki-occurred factual knowledge: predicted vs non-predicted')\n",
    "    ax2.set_xlabel('The number of co-occurrences for subject-object')\n",
    "    fig.tight_layout()\n",
    "    plt.show()"
   ]
  }
 ],
 "metadata": {
  "kernelspec": {
   "display_name": "Python 3",
   "language": "python",
   "name": "python3"
  },
  "language_info": {
   "codemirror_mode": {
    "name": "ipython",
    "version": 3
   },
   "file_extension": ".py",
   "mimetype": "text/x-python",
   "name": "python",
   "nbconvert_exporter": "python",
   "pygments_lexer": "ipython3",
   "version": "3.10.12"
  },
  "orig_nbformat": 4
 },
 "nbformat": 4,
 "nbformat_minor": 2
}
