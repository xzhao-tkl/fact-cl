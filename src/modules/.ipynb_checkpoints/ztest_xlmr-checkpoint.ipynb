{
 "cells": [
  {
   "cell_type": "code",
   "execution_count": 1,
   "id": "44a390c2-bc50-4715-ba66-d345c33d3b95",
   "metadata": {
    "tags": []
   },
   "outputs": [],
   "source": [
    "from transformers import AutoTokenizer, XLMRobertaForMaskedLM\n",
    "import torch\n",
    "\n",
    "tokenizer = AutoTokenizer.from_pretrained(\"xlm-roberta-base\")\n",
    "model = XLMRobertaForMaskedLM.from_pretrained(\"xlm-roberta-base\").to(torch.device(\"cuda:0\"))"
   ]
  },
  {
   "cell_type": "code",
   "execution_count": null,
   "id": "28ff03a7-5142-4c3f-9f3e-0688fc80977b",
   "metadata": {
    "tags": []
   },
   "outputs": [],
   "source": [
    "model"
   ]
  },
  {
   "cell_type": "code",
   "execution_count": null,
   "id": "87fa3f60-b6bf-4b84-8e38-46c013a552a7",
   "metadata": {
    "tags": []
   },
   "outputs": [],
   "source": [
    "sentences = [\n",
    "    'William Henry Gates created the company <mask> .',\n",
    "    '周恩来出生于<mask>']\n",
    "encoded_inputs = tokenizer(sentences, padding=True, return_tensors=\"pt\").to(torch.device(\"cuda:0\"))\n",
    "with torch.no_grad():\n",
    "    output = model(**encoded_inputs)\n",
    "    logits = output.logits\n",
    "output"
   ]
  },
  {
   "cell_type": "code",
   "execution_count": null,
   "id": "650c5c75-bc77-4ddc-a7e0-feee29247668",
   "metadata": {
    "tags": []
   },
   "outputs": [],
   "source": [
    "# test for xlmr.get_mask_tokens function - with padding\n",
    "sentences = [\n",
    "    'William Henry Gates created the company <mask>.',\n",
    "    '周恩来出生于<mask>, 生育三子二女, 无疾而终']\n",
    "encoded_inputs = tokenizer(sentences, padding=True, return_tensors=\"pt\").to(torch.device(\"cuda:0\"))\n",
    "with torch.no_grad():\n",
    "    logits = model(**encoded_inputs).logits\n",
    "preds = []\n",
    "for i, sent in enumerate(sentences):\n",
    "    masked_tokens = []\n",
    "    tokens = tokenizer.convert_ids_to_tokens(encoded_inputs['input_ids'][i])\n",
    "    mask_ind = tokens.index('<mask>')\n",
    "    for j in range(1):\n",
    "        token = tokenizer.convert_ids_to_tokens(torch.topk(logits[i][mask_ind+j], 1).indices)\n",
    "        masked_tokens.append(token)\n",
    "    preds.append(masked_tokens)\n",
    "print(preds)"
   ]
  },
  {
   "cell_type": "code",
   "execution_count": null,
   "id": "ee10e420-c38b-449a-a0ab-93729d9f39a2",
   "metadata": {
    "tags": []
   },
   "outputs": [],
   "source": [
    "inputs = tokenizer(\"John Vincent Atanasoff works in the field of mathematics\", return_tensors=\"pt\")\n",
    "print(tokenizer.convert_ids_to_tokens(inputs.input_ids[0]))\n",
    "# with torch.no_grad():\n",
    "#     logits = model(**inputs).logits\n",
    "# with torch.no_grad():\n",
    "#     output = model(**inputs)"
   ]
  },
  {
   "cell_type": "code",
   "execution_count": null,
   "id": "d8d29eec-7d34-4477-b5eb-3ee950f6ee2b",
   "metadata": {},
   "outputs": [],
   "source": []
  },
  {
   "cell_type": "code",
   "execution_count": 5,
   "id": "7ff988d7-4dd2-435b-8692-e10850b37859",
   "metadata": {
    "tags": []
   },
   "outputs": [
    {
     "data": {
      "text/plain": [
       "MaskedLMOutput(loss=None, logits=tensor([[[60.8371, -0.1726, 45.7986,  ..., 28.6289, 16.6448, 23.7296],\n",
       "         [29.2734, -1.4505, 72.7367,  ..., 46.4081, 14.4296, 35.9122],\n",
       "         [20.4163, -0.9104, 49.2314,  ..., 33.0455, 14.6394, 24.9723],\n",
       "         ...,\n",
       "         [27.0913, -1.6071, 67.9122,  ..., 54.2438, 18.9646, 38.2035],\n",
       "         [17.8382, -0.8148, 50.2230,  ..., 32.0012, 14.5591, 24.8543],\n",
       "         [37.7306, -0.3880, 55.0519,  ..., 34.0709, 18.2874, 27.1745]]]), hidden_states=None, attentions=None)"
      ]
     },
     "execution_count": 5,
     "metadata": {},
     "output_type": "execute_result"
    }
   ],
   "source": [
    "output"
   ]
  },
  {
   "cell_type": "code",
   "execution_count": 20,
   "id": "0969ce0d-304b-4916-a6a2-cad564b93ca5",
   "metadata": {},
   "outputs": [
    {
     "data": {
      "text/plain": [
       "'...'"
      ]
     },
     "execution_count": 20,
     "metadata": {},
     "output_type": "execute_result"
    }
   ],
   "source": [
    "# retrieve index of <mask>\n",
    "mask_token_index = (inputs.input_ids == tokenizer.mask_token_id)[0].nonzero(as_tuple=True)[0]\n",
    "\n",
    "predicted_token_id = logits[0, mask_token_index].argmax(axis=-1)\n",
    "tokenizer.decode(predicted_token_id)"
   ]
  },
  {
   "cell_type": "code",
   "execution_count": 22,
   "id": "cd92b06d-dfa7-43e3-accc-2c5843492066",
   "metadata": {
    "tags": []
   },
   "outputs": [
    {
     "name": "stdout",
     "output_type": "stream",
     "text": [
      "['<s>', '▁The', '▁capital', '▁of', '▁France', '▁is', '<mask>', '</s>']\n",
      "tensor([[    0,   581, 10323,   111,  9942,    83,  7270,     2]])\n",
      "['<s>', '▁The', '▁capital', '▁of', '▁France', '▁is', '▁Paris', '</s>']\n"
     ]
    }
   ],
   "source": [
    "labels = tokenizer(\"The capital of France is Paris\", return_tensors=\"pt\")[\"input_ids\"]\n",
    "print(tokenizer.convert_ids_to_tokens(inputs.input_ids[0].tolist()))\n",
    "print(labels)\n",
    "print(tokenizer.convert_ids_to_tokens(labels[0].tolist()))"
   ]
  },
  {
   "cell_type": "code",
   "execution_count": 23,
   "id": "ad5ca1b1-b8e2-4544-a175-0f3248464549",
   "metadata": {
    "tags": []
   },
   "outputs": [
    {
     "data": {
      "text/plain": [
       "1.86"
      ]
     },
     "execution_count": 23,
     "metadata": {},
     "output_type": "execute_result"
    }
   ],
   "source": [
    "# mask labels of non-<mask> tokens\n",
    "labels = torch.where(inputs.input_ids == tokenizer.mask_token_id, labels, -100)\n",
    "\n",
    "outputs = model(**inputs, labels=labels)\n",
    "round(outputs.loss.item(), 2)"
   ]
  },
  {
   "cell_type": "code",
   "execution_count": null,
   "id": "b63ac7fe-8773-456e-b900-a3c391ad65c4",
   "metadata": {},
   "outputs": [],
   "source": []
  }
 ],
 "metadata": {
  "kernelspec": {
   "display_name": "Python 3 (ipykernel)",
   "language": "python",
   "name": "python3"
  },
  "language_info": {
   "codemirror_mode": {
    "name": "ipython",
    "version": 3
   },
   "file_extension": ".py",
   "mimetype": "text/x-python",
   "name": "python",
   "nbconvert_exporter": "python",
   "pygments_lexer": "ipython3",
   "version": "3.10.12"
  }
 },
 "nbformat": 4,
 "nbformat_minor": 5
}
