{
 "cells": [
  {
   "cell_type": "code",
   "execution_count": 1,
   "id": "06d9e97e-741d-424f-9151-3b362ef81671",
   "metadata": {
    "tags": []
   },
   "outputs": [],
   "source": [
    "import torch\n",
    "device = torch.device(\"cuda:0\")    "
   ]
  },
  {
   "cell_type": "code",
   "execution_count": 2,
   "id": "94458ae3-3781-46a6-8ea2-cbe7da5f89af",
   "metadata": {
    "tags": []
   },
   "outputs": [],
   "source": [
    "from xlmr_base_model import XLMBaseModel\n",
    "xlmr = XLMBaseModel(device, 1)"
   ]
  },
  {
   "cell_type": "code",
   "execution_count": 3,
   "id": "c4b9a3d2-92ad-4ad5-8a9e-9ad100889933",
   "metadata": {
    "tags": []
   },
   "outputs": [
    {
     "data": {
      "text/plain": [
       "[[['▁Microsoft']], [['北京']]]"
      ]
     },
     "execution_count": 3,
     "metadata": {},
     "output_type": "execute_result"
    }
   ],
   "source": [
    "sentences = [\n",
    "    'William Henry Gates created the company <mask> .',\n",
    "    '周恩来出生于<mask>']\n",
    "xlmr.get_mask_tokens(sentences, 1)"
   ]
  },
  {
   "cell_type": "code",
   "execution_count": null,
   "id": "32b1f439-61a2-4e4d-9d28-7b83d7812732",
   "metadata": {},
   "outputs": [],
   "source": []
  }
 ],
 "metadata": {
  "kernelspec": {
   "display_name": "Python 3 (ipykernel)",
   "language": "python",
   "name": "python3"
  },
  "language_info": {
   "codemirror_mode": {
    "name": "ipython",
    "version": 3
   },
   "file_extension": ".py",
   "mimetype": "text/x-python",
   "name": "python",
   "nbconvert_exporter": "python",
   "pygments_lexer": "ipython3",
   "version": "3.10.12"
  }
 },
 "nbformat": 4,
 "nbformat_minor": 5
}
