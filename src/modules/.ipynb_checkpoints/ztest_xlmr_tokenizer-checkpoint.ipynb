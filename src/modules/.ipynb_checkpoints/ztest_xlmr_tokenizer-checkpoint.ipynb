{
 "cells": [
  {
   "cell_type": "code",
   "execution_count": 1,
   "id": "d32d8322-9792-42b5-986b-bac5232a57c0",
   "metadata": {
    "tags": []
   },
   "outputs": [],
   "source": [
    "from transformers import AutoTokenizer, BertModel, XLMRobertaForMaskedLM"
   ]
  },
  {
   "cell_type": "code",
   "execution_count": 2,
   "id": "da5691b8-8bd6-4010-a86b-7619c756c776",
   "metadata": {
    "tags": []
   },
   "outputs": [],
   "source": [
    "bert_tokenizer = AutoTokenizer.from_pretrained(\"bert-base-uncased\")\n",
    "xlmr_tokenizer = AutoTokenizer.from_pretrained(\"xlm-roberta-base\")"
   ]
  },
  {
   "cell_type": "code",
   "execution_count": 3,
   "id": "b58c2db3-2ca6-4717-a8b6-e817af1de3ed",
   "metadata": {
    "tags": []
   },
   "outputs": [
    {
     "data": {
      "text/plain": [
       "XLMRobertaTokenizerFast(name_or_path='xlm-roberta-base', vocab_size=250002, model_max_length=512, is_fast=True, padding_side='right', truncation_side='right', special_tokens={'bos_token': '<s>', 'eos_token': '</s>', 'unk_token': '<unk>', 'sep_token': '</s>', 'pad_token': '<pad>', 'cls_token': '<s>', 'mask_token': AddedToken(\"<mask>\", rstrip=False, lstrip=True, single_word=False, normalized=False)}, clean_up_tokenization_spaces=True)"
      ]
     },
     "execution_count": 3,
     "metadata": {},
     "output_type": "execute_result"
    }
   ],
   "source": [
    "xlmr_tokenizer"
   ]
  },
  {
   "cell_type": "code",
   "execution_count": 3,
   "id": "2e9ca5f2-30ce-4550-8fbe-62f3929239c2",
   "metadata": {
    "tags": []
   },
   "outputs": [
    {
     "name": "stderr",
     "output_type": "stream",
     "text": [
      "100%|███████████████████████████████████████████████████████████████████████████████████| 53/53 [00:00<00:00, 54.05it/s]\n"
     ]
    }
   ],
   "source": [
    "from mask_dataset import MaskedDataset\n",
    "mlama = MaskedDataset(\"mlama\", '<mask>', 1)\n",
    "data = mlama.get_lang_type('en', 'P131')"
   ]
  },
  {
   "cell_type": "code",
   "execution_count": null,
   "id": "2363530a-3932-4baa-b77c-f55f9e0393c7",
   "metadata": {},
   "outputs": [],
   "source": []
  },
  {
   "cell_type": "code",
   "execution_count": 40,
   "id": "3c8ab0fa-5959-4ce1-bcb0-0992529a776e",
   "metadata": {
    "tags": []
   },
   "outputs": [],
   "source": [
    "sents = data['sent'].tolist()[:3]"
   ]
  },
  {
   "cell_type": "code",
   "execution_count": 41,
   "id": "0bdac27f-2216-4eb0-a56d-e818d3470e4a",
   "metadata": {
    "tags": []
   },
   "outputs": [
    {
     "data": {
      "text/plain": [
       "['A605 road is located in [Y] .',\n",
       " 'Kupreanof Island is located in [Y] .',\n",
       " 'Pershing County is located in [Y] .']"
      ]
     },
     "execution_count": 41,
     "metadata": {},
     "output_type": "execute_result"
    }
   ],
   "source": [
    "sents"
   ]
  },
  {
   "cell_type": "code",
   "execution_count": 42,
   "id": "63393caa-c43e-4720-b443-f3c6446a70bd",
   "metadata": {},
   "outputs": [],
   "source": [
    "encoded_input = xlmr_tokenizer(sents, padding=True)"
   ]
  },
  {
   "cell_type": "code",
   "execution_count": 43,
   "id": "b39713ae-4c1a-44bb-8e39-97e11427b5c6",
   "metadata": {
    "tags": []
   },
   "outputs": [
    {
     "data": {
      "text/plain": [
       "{'input_ids': [[0, 62, 146560, 33816, 83, 105866, 23, 378, 1723, 268, 6, 5, 2, 1, 1], [0, 22670, 107, 66, 4390, 18481, 83, 105866, 23, 378, 1723, 268, 6, 5, 2], [0, 908, 54700, 47064, 83, 105866, 23, 378, 1723, 268, 6, 5, 2, 1, 1]], 'attention_mask': [[1, 1, 1, 1, 1, 1, 1, 1, 1, 1, 1, 1, 1, 0, 0], [1, 1, 1, 1, 1, 1, 1, 1, 1, 1, 1, 1, 1, 1, 1], [1, 1, 1, 1, 1, 1, 1, 1, 1, 1, 1, 1, 1, 0, 0]]}"
      ]
     },
     "execution_count": 43,
     "metadata": {},
     "output_type": "execute_result"
    }
   ],
   "source": [
    "encoded_input"
   ]
  },
  {
   "cell_type": "code",
   "execution_count": 44,
   "id": "dd1444fa-60de-450f-9dc4-d78d1df0fb59",
   "metadata": {
    "tags": []
   },
   "outputs": [
    {
     "data": {
      "text/plain": [
       "'<s> A605 road is located in [Y].</s><pad><pad>'"
      ]
     },
     "execution_count": 44,
     "metadata": {},
     "output_type": "execute_result"
    }
   ],
   "source": [
    "xlmr_tokenizer.decode(encoded_input[\"input_ids\"][0])"
   ]
  },
  {
   "cell_type": "code",
   "execution_count": 15,
   "id": "fb739321-da96-4306-a5c3-cd550a24a066",
   "metadata": {
    "tags": []
   },
   "outputs": [
    {
     "data": {
      "text/plain": [
       "['▁A', '605', '▁road', '▁is', '▁located', '▁in', '▁[', 'Y', ']', '▁', '.']"
      ]
     },
     "execution_count": 15,
     "metadata": {},
     "output_type": "execute_result"
    }
   ],
   "source": [
    "xlmr_tokenizer.tokenize(sents[0])"
   ]
  },
  {
   "cell_type": "code",
   "execution_count": null,
   "id": "c97df191-9618-456c-80e1-0c20a52b76fb",
   "metadata": {},
   "outputs": [],
   "source": [
    ".tokenize(sents[:10].tolist())"
   ]
  }
 ],
 "metadata": {
  "kernelspec": {
   "display_name": "Python 3 (ipykernel)",
   "language": "python",
   "name": "python3"
  },
  "language_info": {
   "codemirror_mode": {
    "name": "ipython",
    "version": 3
   },
   "file_extension": ".py",
   "mimetype": "text/x-python",
   "name": "python",
   "nbconvert_exporter": "python",
   "pygments_lexer": "ipython3",
   "version": "3.10.12"
  }
 },
 "nbformat": 4,
 "nbformat_minor": 5
}
