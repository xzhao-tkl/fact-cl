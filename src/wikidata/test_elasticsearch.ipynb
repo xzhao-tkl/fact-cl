{
 "cells": [
  {
   "cell_type": "code",
   "execution_count": 5,
   "metadata": {},
   "outputs": [
    {
     "name": "stderr",
     "output_type": "stream",
     "text": [
      "100%|██████████| 53/53 [02:43<00:00,  3.08s/it]\n"
     ]
    },
    {
     "name": "stdout",
     "output_type": "stream",
     "text": [
      "zxczx\n"
     ]
    },
    {
     "name": "stderr",
     "output_type": "stream",
     "text": [
      "100%|██████████| 53/53 [00:42<00:00,  1.24it/s]\n"
     ]
    }
   ],
   "source": [
    "from collect_wikipedia import locate_urls, get_title_gz_urls\n",
    "from tqdm import tqdm \n",
    "lang2url = locate_urls(reload=True)\n",
    "title_paths = get_title_gz_urls(reload=True)"
   ]
  },
  {
   "cell_type": "code",
   "execution_count": 4,
   "metadata": {},
   "outputs": [
    {
     "data": {
      "text/plain": [
       "{'ru': 'https://archive.org/download/ruwiki-20181001',\n",
       " 'el': 'https://archive.org/download/elwiki-20181001',\n",
       " 'uk': 'https://archive.org/download/ukwiki-20181001',\n",
       " 'la': 'https://archive.org/download/lawiki-20181001',\n",
       " 'ms': 'https://archive.org/download/mswiki-20181101',\n",
       " 'ca': 'https://archive.org/download/cawiki-20181101',\n",
       " 'ko': 'https://archive.org/download/kowiki-20181101',\n",
       " 'he': 'https://archive.org/download/hewiki-20181101',\n",
       " 'fi': 'https://archive.org/download/fiwiki-20181101',\n",
       " 'ga': 'https://archive.org/download/gawiki-20181101',\n",
       " 'ka': 'https://archive.org/download/kawiki-20181101',\n",
       " 'en': 'https://archive.org/download/enwiki-20181120',\n",
       " 'th': 'https://archive.org/download/thwiki-20181101',\n",
       " 'nl': 'https://archive.org/download/nlwiki-20181120',\n",
       " 'zh': 'https://archive.org/download/zhwiki-20181101',\n",
       " 'ja': 'https://archive.org/download/jawiki-20181120',\n",
       " 'eu': 'https://archive.org/download/euwiki-20181101',\n",
       " 'da': 'https://archive.org/download/dawiki-20181101',\n",
       " 'pt': 'https://archive.org/download/ptwiki-20181101',\n",
       " 'fr': 'https://archive.org/download/frwiki-20181101',\n",
       " 'sr': 'https://archive.org/download/srwiki-20181101',\n",
       " 'et': 'https://archive.org/download/etwiki-20181101',\n",
       " 'sv': 'https://archive.org/download/svwiki-20181101',\n",
       " 'hy': 'https://archive.org/download/hywiki-20181101',\n",
       " 'cy': 'https://archive.org/download/cywiki-20181101',\n",
       " 'sq': 'https://archive.org/download/sqwiki-20181101',\n",
       " 'it': 'https://archive.org/download/itwiki-20181120',\n",
       " 'hi': 'https://archive.org/download/hiwiki-20181101',\n",
       " 'hr': 'https://archive.org/download/hrwiki-20181101',\n",
       " 'es': 'https://archive.org/download/eswiki-20181120',\n",
       " 'hu': 'https://archive.org/download/huwiki-20181120',\n",
       " 'bg': 'https://archive.org/download/bgwiki-20181101',\n",
       " 'ta': 'https://archive.org/download/tawiki-20181101',\n",
       " 'sl': 'https://archive.org/download/slwiki-20181101',\n",
       " 'bn': 'https://archive.org/download/bnwiki-20181101',\n",
       " 'de': 'https://archive.org/download/dewiki-20181120',\n",
       " 'id': 'https://archive.org/download/idwiki-20181101',\n",
       " 'be': 'https://archive.org/download/bewiki-20181101',\n",
       " 'ceb': 'https://archive.org/download/cebwiki-20181101',\n",
       " 'fa': 'https://archive.org/download/fawiki-20181101',\n",
       " 'pl': 'https://archive.org/download/plwiki-20181101',\n",
       " 'az': 'https://archive.org/download/azwiki-20181101',\n",
       " 'ar': 'https://archive.org/download/arwiki-20181101',\n",
       " 'gl': 'https://archive.org/download/glwiki-20181101',\n",
       " 'lt': 'https://archive.org/download/ltwiki-20181101',\n",
       " 'cs': 'https://archive.org/download/cswiki-20181101',\n",
       " 'sk': 'https://archive.org/download/skwiki-20181101',\n",
       " 'lv': 'https://archive.org/download/lvwiki-20181101',\n",
       " 'tr': 'https://archive.org/download/trwiki-20181101',\n",
       " 'af': 'https://archive.org/download/afwiki-20181101',\n",
       " 'vi': 'https://archive.org/download/viwiki-20181101',\n",
       " 'ur': 'https://archive.org/download/urwiki-20181101',\n",
       " 'ro': 'https://archive.org/download/rowiki-20181101'}"
      ]
     },
     "execution_count": 4,
     "metadata": {},
     "output_type": "execute_result"
    }
   ],
   "source": [
    "import requests\n",
    "from bs4 import BeautifulSoup\n",
    "\n",
    "for lang in tqdm(['en', 'zh']):\n",
    "    prefix = lang2url[lang].split('/')[-1]\n",
    "    pattern = f\"{prefix}-abstract[0-9]*.xml.gz\"\n",
    "    \n",
    "    html = requests.get(lang2url[lang]).text\n",
    "    soup = BeautifulSoup(html, 'html.parser')\n",
    "    for link in soup.find_all('a'):\n",
    "        path = link.get('href')\n"
   ]
  },
  {
   "cell_type": "code",
   "execution_count": null,
   "metadata": {},
   "outputs": [],
   "source": [
    "from bs4 import BeautifulSoup\n",
    "import requests\n",
    "from urllib.parse import urljoin\n",
    "\n",
    "title_paths = {}\n",
    "for lang in langs:\n",
    "    title_paths[lang] = []\n",
    "\n",
    "for lang in tqdm(langs[33:]):\n",
    "    html = requests.get(urls[lang]).text\n",
    "    soup = BeautifulSoup(html, 'html.parser')\n",
    "    links = soup.find_all('a')\n",
    "    for link in soup.find_all('a'):\n",
    "        path = link.get('href')\n",
    "        if path and 'all-titles.gz' in path:\n",
    "            path = urljoin(urls[lang], path)\n",
    "            title_paths[lang].append(path)"
   ]
  },
  {
   "cell_type": "code",
   "execution_count": null,
   "metadata": {},
   "outputs": [],
   "source": [
    "urls['uk']"
   ]
  }
 ],
 "metadata": {
  "kernelspec": {
   "display_name": "probing",
   "language": "python",
   "name": "python3"
  },
  "language_info": {
   "codemirror_mode": {
    "name": "ipython",
    "version": 3
   },
   "file_extension": ".py",
   "mimetype": "text/x-python",
   "name": "python",
   "nbconvert_exporter": "python",
   "pygments_lexer": "ipython3",
   "version": "3.10.12"
  },
  "orig_nbformat": 4
 },
 "nbformat": 4,
 "nbformat_minor": 2
}
