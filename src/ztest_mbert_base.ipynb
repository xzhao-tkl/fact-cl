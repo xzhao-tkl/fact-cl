{
 "cells": [
  {
   "cell_type": "code",
   "execution_count": 1,
   "id": "a1a4f0f0-5686-4dfd-a276-5f5f123ab15c",
   "metadata": {
    "tags": []
   },
   "outputs": [],
   "source": [
    "import torch\n",
    "from modules.bert_base_model import BERTBaseModel\n",
    "device = torch.device(\"cuda:0\")    "
   ]
  },
  {
   "cell_type": "code",
   "execution_count": 2,
   "id": "65e6e41e-8b6e-4f98-b364-9bb142c29740",
   "metadata": {
    "tags": []
   },
   "outputs": [
    {
     "name": "stderr",
     "output_type": "stream",
     "text": [
      "Some weights of the model checkpoint at bert-base-multilingual-cased were not used when initializing BertForMaskedLM: ['cls.seq_relationship.bias', 'cls.seq_relationship.weight']\n",
      "- This IS expected if you are initializing BertForMaskedLM from the checkpoint of a model trained on another task or with another architecture (e.g. initializing a BertForSequenceClassification model from a BertForPreTraining model).\n",
      "- This IS NOT expected if you are initializing BertForMaskedLM from the checkpoint of a model that you expect to be exactly identical (initializing a BertForSequenceClassification model from a BertForSequenceClassification model).\n"
     ]
    }
   ],
   "source": [
    "bert = BERTBaseModel(device)"
   ]
  },
  {
   "cell_type": "code",
   "execution_count": 4,
   "id": "628151b5-b8b9-4e34-89ca-0bb81294a074",
   "metadata": {
    "tags": []
   },
   "outputs": [
    {
     "data": {
      "text/plain": [
       "tensor([[  101, 10694, 11601, 39000, 13745, 10105, 12100,   103,   103,   119,\n",
       "           102],\n",
       "        [  101,  2822,  3844,  4501,  2527,  5600,  2151,   103,   103,   102,\n",
       "             0]])"
      ]
     },
     "execution_count": 4,
     "metadata": {},
     "output_type": "execute_result"
    }
   ],
   "source": [
    "sentences = [\n",
    "    'William Henry Gates created the company [MASK] [MASK].',\n",
    "    '周恩来出生于[MASK] [MASK]']\n",
    "encoded_inputs = bert.tokenizer(sentences, padding=True, return_tensors=\"pt\")\n",
    "encoded_inputs.input_ids"
   ]
  },
  {
   "cell_type": "code",
   "execution_count": 9,
   "id": "9e70dd10-236c-4d6d-9cec-40cdfe325654",
   "metadata": {
    "tags": []
   },
   "outputs": [
    {
     "data": {
      "text/plain": [
       "tensor([[0., 0., 0., 0., 0., 0., 0., 1., 1., 0., 0.],\n",
       "        [0., 0., 0., 0., 0., 0., 0., 1., 1., 0., 0.]])"
      ]
     },
     "execution_count": 9,
     "metadata": {},
     "output_type": "execute_result"
    }
   ],
   "source": [
    "mask_indices = (encoded_inputs.input_ids == bert.tokenizer.mask_token_id).type(torch.float32)\n",
    "mask_indices"
   ]
  },
  {
   "cell_type": "code",
   "execution_count": null,
   "id": "278b229b-aeb7-46ae-8a36-d913f634a432",
   "metadata": {},
   "outputs": [],
   "source": []
  }
 ],
 "metadata": {
  "kernelspec": {
   "display_name": "Python 3 (ipykernel)",
   "language": "python",
   "name": "python3"
  },
  "language_info": {
   "codemirror_mode": {
    "name": "ipython",
    "version": 3
   },
   "file_extension": ".py",
   "mimetype": "text/x-python",
   "name": "python",
   "nbconvert_exporter": "python",
   "pygments_lexer": "ipython3",
   "version": "3.10.12"
  }
 },
 "nbformat": 4,
 "nbformat_minor": 5
}
